{
 "cells": [
  {
   "cell_type": "code",
   "execution_count": 2,
   "metadata": {},
   "outputs": [],
   "source": [
    "def divider(a, b):\n",
    "    try:\n",
    "        print(a/b)\n",
    "    except ZeroDivisionError:\n",
    "        print(f\"It is impossible to divide by 0\")"
   ]
  },
  {
   "cell_type": "code",
   "execution_count": 19,
   "metadata": {},
   "outputs": [
    {
     "name": "stdout",
     "output_type": "stream",
     "text": [
      "3\n"
     ]
    },
    {
     "ename": "ValueError",
     "evalue": "",
     "output_type": "error",
     "traceback": [
      "\u001b[31m---------------------------------------------------------------------------\u001b[39m",
      "\u001b[31mValueError\u001b[39m                                Traceback (most recent call last)",
      "\u001b[36mCell\u001b[39m\u001b[36m \u001b[39m\u001b[32mIn[19]\u001b[39m\u001b[32m, line 7\u001b[39m\n\u001b[32m      5\u001b[39m         \u001b[38;5;28mprint\u001b[39m(a)\n\u001b[32m      6\u001b[39m integer(\u001b[32m3\u001b[39m)\n\u001b[32m----> \u001b[39m\u001b[32m7\u001b[39m \u001b[43minteger\u001b[49m\u001b[43m(\u001b[49m\u001b[33;43m'\u001b[39;49m\u001b[33;43mthree\u001b[39;49m\u001b[33;43m'\u001b[39;49m\u001b[43m)\u001b[49m\n",
      "\u001b[36mCell\u001b[39m\u001b[36m \u001b[39m\u001b[32mIn[19]\u001b[39m\u001b[32m, line 3\u001b[39m, in \u001b[36minteger\u001b[39m\u001b[34m(a)\u001b[39m\n\u001b[32m      1\u001b[39m \u001b[38;5;28;01mdef\u001b[39;00m\u001b[38;5;250m \u001b[39m\u001b[34minteger\u001b[39m(a):\n\u001b[32m      2\u001b[39m     \u001b[38;5;28;01mif\u001b[39;00m \u001b[38;5;28mtype\u001b[39m(a) != \u001b[38;5;28mint\u001b[39m:\n\u001b[32m----> \u001b[39m\u001b[32m3\u001b[39m         \u001b[38;5;28;01mraise\u001b[39;00m \u001b[38;5;167;01mValueError\u001b[39;00m\n\u001b[32m      4\u001b[39m     \u001b[38;5;28;01melse\u001b[39;00m:\n\u001b[32m      5\u001b[39m         \u001b[38;5;28mprint\u001b[39m(a)\n",
      "\u001b[31mValueError\u001b[39m: "
     ]
    }
   ],
   "source": [
    "def integer(a):\n",
    "    if type(a) != int:\n",
    "        raise ValueError\n",
    "    else:\n",
    "        print(a)\n",
    "integer(3)\n",
    "integer('three')"
   ]
  },
  {
   "cell_type": "code",
   "execution_count": 47,
   "metadata": {},
   "outputs": [
    {
     "name": "stdout",
     "output_type": "stream",
     "text": [
      "\n",
      "13\n",
      "15\n",
      "17\n",
      "19\n",
      "21\n",
      "23\n",
      "25\n",
      "27\n",
      "29\n",
      "31\n",
      "33\n",
      "35\n",
      "37\n",
      "39\n",
      "41\n",
      "43\n",
      "45\n",
      "47\n",
      "49\n"
     ]
    }
   ],
   "source": [
    "import os\n",
    "\n",
    "def path_file(project_path):\n",
    "    if not os.path.exists(project_path):\n",
    "        raise FileNotFoundError(\"File does not exist.\")\n",
    "    \n",
    "    with open(project_path, 'r') as file:\n",
    "        read_content = file.read()\n",
    "        print(read_content)\n",
    "path_file('oddnumbers.txt')"
   ]
  },
  {
   "cell_type": "code",
   "execution_count": 53,
   "metadata": {},
   "outputs": [
    {
     "name": "stdout",
     "output_type": "stream",
     "text": [
      "a is not a valid integer\n",
      "6 is a valid integer\n"
     ]
    }
   ],
   "source": [
    "first_n = input(\"Enter an integer:\")\n",
    "second_n = input(\"Enter the second integer:\")\n",
    "\n",
    "try:\n",
    "    int(first_n)\n",
    "    print(f\"{first_n} is a valid integer\")\n",
    "except ValueError:\n",
    "    print(f\"{first_n} is not a valid integer\")\n",
    "\n",
    "try:\n",
    "    int(second_n)\n",
    "    print(f\"{second_n} is a valid integer\")\n",
    "except ValueError:\n",
    "    print(f\"{second_n} is not a valid integer\")"
   ]
  },
  {
   "cell_type": "code",
   "execution_count": 2,
   "metadata": {},
   "outputs": [
    {
     "name": "stdout",
     "output_type": "stream",
     "text": [
      "The file is succesfully opened\n"
     ]
    }
   ],
   "source": [
    "path_file = r'oddnumbers.txt'\n",
    "try:\n",
    "    with open(path_file,'r') as file:\n",
    "        print('The file is succesfully opened')\n",
    "except PermissionError:\n",
    "    print(\"There is no permission to open this file\")"
   ]
  },
  {
   "cell_type": "code",
   "execution_count": 6,
   "metadata": {},
   "outputs": [
    {
     "name": "stdout",
     "output_type": "stream",
     "text": [
      "The index is out of range\n"
     ]
    }
   ],
   "source": [
    "list = [1,3,5,6,7,'s','f','g',4,'g','y']\n",
    "index_user = int(input(\"Enter the index\"))\n",
    "try:\n",
    "    print(list[index_user])\n",
    "except IndexError:\n",
    "    print('The index is out of range')"
   ]
  },
  {
   "cell_type": "code",
   "execution_count": 9,
   "metadata": {},
   "outputs": [
    {
     "name": "stdout",
     "output_type": "stream",
     "text": [
      "\n"
     ]
    }
   ],
   "source": [
    "input_number = input(\"Enter a number\")\n",
    "\n",
    "try:\n",
    "    print(input_number)\n",
    "except KeyboardInterrupt:\n",
    "    print(\"The user cancelled the input\")"
   ]
  },
  {
   "cell_type": "code",
   "execution_count": 23,
   "metadata": {},
   "outputs": [
    {
     "name": "stdout",
     "output_type": "stream",
     "text": [
      "An error occured : Dividing by zero is impossible\n"
     ]
    }
   ],
   "source": [
    "def divider(a,b):\n",
    "    if b == 0:\n",
    "        raise ArithmeticError('Dividing by zero is impossible')\n",
    "    return a/b\n",
    "try:\n",
    "    divider(4,0)\n",
    "except ArithmeticError as e:\n",
    "    print(f\"An error occured : {e}\")"
   ]
  },
  {
   "cell_type": "code",
   "execution_count": 24,
   "metadata": {},
   "outputs": [
    {
     "name": "stdout",
     "output_type": "stream",
     "text": [
      "The file is succesfully opened\n"
     ]
    }
   ],
   "source": [
    "path_file = r'oddnumbers.txt'\n",
    "try:\n",
    "    with open(path_file,'r') as file:\n",
    "        print('The file is succesfully opened')\n",
    "except UnicodeDecodeError:\n",
    "    print(\"There is unidecode error while open this file\")"
   ]
  },
  {
   "cell_type": "code",
   "execution_count": 29,
   "metadata": {},
   "outputs": [
    {
     "name": "stdout",
     "output_type": "stream",
     "text": [
      "There is attribute error error while open this file\n"
     ]
    }
   ],
   "source": [
    "path_file = r'oddnumbers.txt'\n",
    "try:\n",
    "    with open(path_file,'r') as file:\n",
    "        print(file.readlines_all())\n",
    "except AttributeError:\n",
    "    print(\"There is attribute error error while open this file\")"
   ]
  },
  {
   "cell_type": "code",
   "execution_count": 31,
   "metadata": {},
   "outputs": [
    {
     "name": "stdout",
     "output_type": "stream",
     "text": [
      "\n",
      "13\n",
      "15\n",
      "17\n",
      "19\n",
      "21\n",
      "23\n",
      "25\n",
      "27\n",
      "29\n",
      "31\n",
      "33\n",
      "35\n",
      "37\n",
      "39\n",
      "41\n",
      "43\n",
      "45\n",
      "47\n",
      "49\n"
     ]
    }
   ],
   "source": [
    "path_file = 'oddnumbers.txt'\n",
    "with open(path_file,'r') as file:\n",
    "    print(file.read())"
   ]
  },
  {
   "cell_type": "code",
   "execution_count": 36,
   "metadata": {},
   "outputs": [
    {
     "ename": "AttributeError",
     "evalue": "'list' object has no attribute 'strip'",
     "output_type": "error",
     "traceback": [
      "\u001b[31m---------------------------------------------------------------------------\u001b[39m",
      "\u001b[31mAttributeError\u001b[39m                            Traceback (most recent call last)",
      "\u001b[36mCell\u001b[39m\u001b[36m \u001b[39m\u001b[32mIn[36]\u001b[39m\u001b[32m, line 3\u001b[39m\n\u001b[32m      1\u001b[39m path_file = \u001b[33m'\u001b[39m\u001b[33moddnumbers.txt\u001b[39m\u001b[33m'\u001b[39m\n\u001b[32m      2\u001b[39m \u001b[38;5;28;01mwith\u001b[39;00m \u001b[38;5;28mopen\u001b[39m(path_file,\u001b[33m'\u001b[39m\u001b[33mr\u001b[39m\u001b[33m'\u001b[39m) \u001b[38;5;28;01mas\u001b[39;00m file:\n\u001b[32m----> \u001b[39m\u001b[32m3\u001b[39m     \u001b[38;5;28mprint\u001b[39m(\u001b[43mfile\u001b[49m\u001b[43m.\u001b[49m\u001b[43mreadlines\u001b[49m\u001b[43m(\u001b[49m\u001b[43m)\u001b[49m\u001b[43m.\u001b[49m\u001b[43mstrip\u001b[49m())\n",
      "\u001b[31mAttributeError\u001b[39m: 'list' object has no attribute 'strip'"
     ]
    }
   ],
   "source": [
    "path_file = 'oddnumbers.txt'\n",
    "with open(path_file,'r') as file:\n",
    "    print(file.readlines().strip())"
   ]
  }
 ],
 "metadata": {
  "kernelspec": {
   "display_name": "Python 3",
   "language": "python",
   "name": "python3"
  },
  "language_info": {
   "codemirror_mode": {
    "name": "ipython",
    "version": 3
   },
   "file_extension": ".py",
   "mimetype": "text/x-python",
   "name": "python",
   "nbconvert_exporter": "python",
   "pygments_lexer": "ipython3",
   "version": "3.11.9"
  }
 },
 "nbformat": 4,
 "nbformat_minor": 2
}
