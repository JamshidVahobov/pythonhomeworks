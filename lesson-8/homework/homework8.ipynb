{
 "cells": [
  {
   "cell_type": "code",
   "execution_count": 2,
   "metadata": {},
   "outputs": [],
   "source": [
    "def divider(a, b):\n",
    "    try:\n",
    "        print(a/b)\n",
    "    except ZeroDivisionError:\n",
    "        print(f\"It is impossible to divide by 0\")"
   ]
  },
  {
   "cell_type": "code",
   "execution_count": 19,
   "metadata": {},
   "outputs": [
    {
     "name": "stdout",
     "output_type": "stream",
     "text": [
      "3\n"
     ]
    },
    {
     "ename": "ValueError",
     "evalue": "",
     "output_type": "error",
     "traceback": [
      "\u001b[31m---------------------------------------------------------------------------\u001b[39m",
      "\u001b[31mValueError\u001b[39m                                Traceback (most recent call last)",
      "\u001b[36mCell\u001b[39m\u001b[36m \u001b[39m\u001b[32mIn[19]\u001b[39m\u001b[32m, line 7\u001b[39m\n\u001b[32m      5\u001b[39m         \u001b[38;5;28mprint\u001b[39m(a)\n\u001b[32m      6\u001b[39m integer(\u001b[32m3\u001b[39m)\n\u001b[32m----> \u001b[39m\u001b[32m7\u001b[39m \u001b[43minteger\u001b[49m\u001b[43m(\u001b[49m\u001b[33;43m'\u001b[39;49m\u001b[33;43mthree\u001b[39;49m\u001b[33;43m'\u001b[39;49m\u001b[43m)\u001b[49m\n",
      "\u001b[36mCell\u001b[39m\u001b[36m \u001b[39m\u001b[32mIn[19]\u001b[39m\u001b[32m, line 3\u001b[39m, in \u001b[36minteger\u001b[39m\u001b[34m(a)\u001b[39m\n\u001b[32m      1\u001b[39m \u001b[38;5;28;01mdef\u001b[39;00m\u001b[38;5;250m \u001b[39m\u001b[34minteger\u001b[39m(a):\n\u001b[32m      2\u001b[39m     \u001b[38;5;28;01mif\u001b[39;00m \u001b[38;5;28mtype\u001b[39m(a) != \u001b[38;5;28mint\u001b[39m:\n\u001b[32m----> \u001b[39m\u001b[32m3\u001b[39m         \u001b[38;5;28;01mraise\u001b[39;00m \u001b[38;5;167;01mValueError\u001b[39;00m\n\u001b[32m      4\u001b[39m     \u001b[38;5;28;01melse\u001b[39;00m:\n\u001b[32m      5\u001b[39m         \u001b[38;5;28mprint\u001b[39m(a)\n",
      "\u001b[31mValueError\u001b[39m: "
     ]
    }
   ],
   "source": [
    "def integer(a):\n",
    "    if type(a) != int:\n",
    "        raise ValueError\n",
    "    else:\n",
    "        print(a)\n",
    "integer(3)\n",
    "integer('three')"
   ]
  },
  {
   "cell_type": "code",
   "execution_count": 47,
   "metadata": {},
   "outputs": [
    {
     "name": "stdout",
     "output_type": "stream",
     "text": [
      "\n",
      "13\n",
      "15\n",
      "17\n",
      "19\n",
      "21\n",
      "23\n",
      "25\n",
      "27\n",
      "29\n",
      "31\n",
      "33\n",
      "35\n",
      "37\n",
      "39\n",
      "41\n",
      "43\n",
      "45\n",
      "47\n",
      "49\n"
     ]
    }
   ],
   "source": [
    "import os\n",
    "\n",
    "def path_file(project_path):\n",
    "    if not os.path.exists(project_path):\n",
    "        raise FileNotFoundError(\"File does not exist.\")\n",
    "    \n",
    "    with open(project_path, 'r') as file:\n",
    "        read_content = file.read()\n",
    "        print(read_content)\n",
    "path_file('oddnumbers.txt')"
   ]
  },
  {
   "cell_type": "code",
   "execution_count": 53,
   "metadata": {},
   "outputs": [
    {
     "name": "stdout",
     "output_type": "stream",
     "text": [
      "a is not a valid integer\n",
      "6 is a valid integer\n"
     ]
    }
   ],
   "source": [
    "first_n = input(\"Enter an integer:\")\n",
    "second_n = input(\"Enter the second integer:\")\n",
    "\n",
    "try:\n",
    "    int(first_n)\n",
    "    print(f\"{first_n} is a valid integer\")\n",
    "except ValueError:\n",
    "    print(f\"{first_n} is not a valid integer\")\n",
    "\n",
    "try:\n",
    "    int(second_n)\n",
    "    print(f\"{second_n} is a valid integer\")\n",
    "except ValueError:\n",
    "    print(f\"{second_n} is not a valid integer\")"
   ]
  },
  {
   "cell_type": "code",
   "execution_count": 2,
   "metadata": {},
   "outputs": [
    {
     "name": "stdout",
     "output_type": "stream",
     "text": [
      "The file is succesfully opened\n"
     ]
    }
   ],
   "source": [
    "path_file = r'oddnumbers.txt'\n",
    "try:\n",
    "    with open(path_file,'r') as file:\n",
    "        print('The file is succesfully opened')\n",
    "except PermissionError:\n",
    "    print(\"There is no permission to open this file\")"
   ]
  },
  {
   "cell_type": "code",
   "execution_count": 6,
   "metadata": {},
   "outputs": [
    {
     "name": "stdout",
     "output_type": "stream",
     "text": [
      "The index is out of range\n"
     ]
    }
   ],
   "source": [
    "list = [1,3,5,6,7,'s','f','g',4,'g','y']\n",
    "index_user = int(input(\"Enter the index\"))\n",
    "try:\n",
    "    print(list[index_user])\n",
    "except IndexError:\n",
    "    print('The index is out of range')"
   ]
  },
  {
   "cell_type": "code",
   "execution_count": 9,
   "metadata": {},
   "outputs": [
    {
     "name": "stdout",
     "output_type": "stream",
     "text": [
      "\n"
     ]
    }
   ],
   "source": [
    "input_number = input(\"Enter a number\")\n",
    "\n",
    "try:\n",
    "    print(input_number)\n",
    "except KeyboardInterrupt:\n",
    "    print(\"The user cancelled the input\")"
   ]
  },
  {
   "cell_type": "code",
   "execution_count": 23,
   "metadata": {},
   "outputs": [
    {
     "name": "stdout",
     "output_type": "stream",
     "text": [
      "An error occured : Dividing by zero is impossible\n"
     ]
    }
   ],
   "source": [
    "def divider(a,b):\n",
    "    if b == 0:\n",
    "        raise ArithmeticError('Dividing by zero is impossible')\n",
    "    return a/b\n",
    "try:\n",
    "    divider(4,0)\n",
    "except ArithmeticError as e:\n",
    "    print(f\"An error occured : {e}\")"
   ]
  },
  {
   "cell_type": "code",
   "execution_count": 24,
   "metadata": {},
   "outputs": [
    {
     "name": "stdout",
     "output_type": "stream",
     "text": [
      "The file is succesfully opened\n"
     ]
    }
   ],
   "source": [
    "path_file = r'oddnumbers.txt'\n",
    "try:\n",
    "    with open(path_file,'r') as file:\n",
    "        print('The file is succesfully opened')\n",
    "except UnicodeDecodeError:\n",
    "    print(\"There is unidecode error while open this file\")"
   ]
  },
  {
   "cell_type": "code",
   "execution_count": 29,
   "metadata": {},
   "outputs": [
    {
     "name": "stdout",
     "output_type": "stream",
     "text": [
      "There is attribute error error while open this file\n"
     ]
    }
   ],
   "source": [
    "path_file = r'oddnumbers.txt'\n",
    "try:\n",
    "    with open(path_file,'r') as file:\n",
    "        print(file.readlines_all())\n",
    "except AttributeError:\n",
    "    print(\"There is attribute error error while open this file\")"
   ]
  },
  {
   "cell_type": "code",
   "execution_count": 31,
   "metadata": {},
   "outputs": [
    {
     "name": "stdout",
     "output_type": "stream",
     "text": [
      "\n",
      "13\n",
      "15\n",
      "17\n",
      "19\n",
      "21\n",
      "23\n",
      "25\n",
      "27\n",
      "29\n",
      "31\n",
      "33\n",
      "35\n",
      "37\n",
      "39\n",
      "41\n",
      "43\n",
      "45\n",
      "47\n",
      "49\n"
     ]
    }
   ],
   "source": [
    "path_file = 'oddnumbers.txt'\n",
    "with open(path_file,'r') as file:\n",
    "    print(file.read())"
   ]
  },
  {
   "cell_type": "code",
   "execution_count": 30,
   "metadata": {},
   "outputs": [
    {
     "name": "stdout",
     "output_type": "stream",
     "text": [
      "asderg\n",
      "asdergwe\n",
      "fcv\n",
      "234\n"
     ]
    }
   ],
   "source": [
    "n = int(input(\"Enter a number of line:\"))\n",
    "path_file = 'new_number.txt'\n",
    "with open(path_file,'r') as file:\n",
    "    for i,line in enumerate(file):\n",
    "        if i < n:\n",
    "            print(line, end='')\n",
    "        else:\n",
    "            break"
   ]
  },
  {
   "cell_type": "code",
   "execution_count": 2,
   "metadata": {},
   "outputs": [],
   "source": [
    "text_add = input(\"Enter your text:\")\n",
    "path_file = 'new_number.txt'\n",
    "with open(path_file,'w') as file:\n",
    "    file.write(text_add)"
   ]
  },
  {
   "cell_type": "code",
   "execution_count": 8,
   "metadata": {},
   "outputs": [
    {
     "name": "stdout",
     "output_type": "stream",
     "text": [
      "The text \"va alaykum assalom\" is added\n"
     ]
    }
   ],
   "source": [
    "\n",
    "with open('new_number.txt','a') as file:\n",
    "    text_add = input(\"Enter your text:\")\n",
    "    file.write(text_add + \"\\n\")\n",
    "    print(f\"The text \\\"{text_add}\\\" is added\")"
   ]
  },
  {
   "cell_type": "code",
   "execution_count": null,
   "metadata": {},
   "outputs": [
    {
     "name": "stdout",
     "output_type": "stream",
     "text": [
      "3 234\n",
      "4 hbg\n",
      "5 678\n",
      "6 j67assalomu alaykum\n",
      "7 va alaykum assalom\n"
     ]
    }
   ],
   "source": [
    "n = int(input(\"Enter a number of line:\"))\n",
    "path_file = 'new_number.txt'\n",
    "with open(path_file,'r') as file:\n",
    "    lines = file.readlines()\n",
    "    for i,line in enumerate(lines[-n:], start= len(lines) - n):\n",
    "        print(i,line, end='')"
   ]
  },
  {
   "cell_type": "code",
   "execution_count": 44,
   "metadata": {},
   "outputs": [
    {
     "name": "stdout",
     "output_type": "stream",
     "text": [
      "['asderg\\n', 'asdergwe\\n', 'fcv\\n', '234\\n', 'hbg\\n', '678\\n', 'j67assalomu alaykum\\n', 'va alaykum assalom\\n']\n"
     ]
    }
   ],
   "source": [
    "path_file = 'new_number.txt'\n",
    "list = []\n",
    "with open(path_file,'r') as file:\n",
    "    lines = file.readlines()\n",
    "    for i,line in enumerate(lines):\n",
    "        list.append(line)\n",
    "print(list)"
   ]
  },
  {
   "cell_type": "code",
   "execution_count": 46,
   "metadata": {},
   "outputs": [
    {
     "name": "stdout",
     "output_type": "stream",
     "text": [
      "['asderg\\n', 'asdergwe\\n', 'fcv\\n', '234\\n', 'hbg\\n', '678\\n', 'j67assalomu alaykum\\n', 'va alaykum assalom\\n']\n"
     ]
    }
   ],
   "source": [
    "path_file = 'new_number.txt'\n",
    "with open(path_file,'r') as file:\n",
    "    lines = file.readlines()\n",
    "print(lines)"
   ]
  },
  {
   "cell_type": "code",
   "execution_count": 49,
   "metadata": {},
   "outputs": [
    {
     "name": "stdout",
     "output_type": "stream",
     "text": [
      "va alaykum assalom\n"
     ]
    }
   ],
   "source": [
    "list = ['asderg', 'asdergwe', 'fcv', '234', 'hbg', '678', 'j67assalomu alaykum', 'va alaykum assalom']\n",
    "print(max(list))"
   ]
  },
  {
   "cell_type": "code",
   "execution_count": 50,
   "metadata": {},
   "outputs": [
    {
     "name": "stdout",
     "output_type": "stream",
     "text": [
      "12\n"
     ]
    }
   ],
   "source": [
    "#9\n",
    "path_file = 'new_number.txt'\n",
    "with open(path_file,'r') as file:\n",
    "    lines = file.readlines()\n",
    "    print(len(lines))"
   ]
  },
  {
   "cell_type": "code",
   "execution_count": 58,
   "metadata": {},
   "outputs": [
    {
     "name": "stdout",
     "output_type": "stream",
     "text": [
      "{'asderg': 1, 'asdergwe': 1, 'va': 2, 'alaykum': 3, 'assalom': 2, 'fcv': 3, '234': 1, 'hbg': 2, '678': 1, 'j67assalomu': 1}\n"
     ]
    }
   ],
   "source": [
    "#10\n",
    "path_file = 'new_number.txt'\n",
    "words_dict = {}\n",
    "with open(path_file,'r') as file:\n",
    "    for i in file:\n",
    "        words = i.strip().split()\n",
    "        for word in words:\n",
    "            if word in words_dict:\n",
    "                words_dict[word] += 1\n",
    "            else:\n",
    "                words_dict[word] = 1\n",
    "print(words_dict)"
   ]
  },
  {
   "cell_type": "code",
   "execution_count": null,
   "metadata": {},
   "outputs": [
    {
     "name": "stdout",
     "output_type": "stream",
     "text": [
      "File size: 112 bytes\n"
     ]
    }
   ],
   "source": [
    "#11\n",
    "import os\n",
    "\n",
    "file_size = os.path.getsize('new_number.txt')\n",
    "print(f\"File size: {file_size} bytes\")"
   ]
  },
  {
   "cell_type": "code",
   "execution_count": 22,
   "metadata": {},
   "outputs": [],
   "source": [
    "#12\n",
    "list1 = [1,3,4,5,'f','d','sad',1233]\n",
    "path_file = 'new_list_file.txt'\n",
    "with open(path_file,'a') as file:\n",
    "    file.write(str(list1))"
   ]
  },
  {
   "cell_type": "code",
   "execution_count": null,
   "metadata": {},
   "outputs": [],
   "source": [
    "#13\n",
    "path_to_old_file = 'new_list_file.txt'\n",
    "path_to_new_file = 'new_file.txt'\n",
    "content = ()\n",
    "with open(path_to_old_file,'r') as file:\n",
    "    content = file.read()\n",
    "with open(path_to_new_file,'a') as file:\n",
    "    file.write(content)"
   ]
  },
  {
   "cell_type": "code",
   "execution_count": 3,
   "metadata": {},
   "outputs": [
    {
     "name": "stdout",
     "output_type": "stream",
     "text": [
      "Combined lines written to output.txt\n"
     ]
    }
   ],
   "source": [
    "#14\n",
    "file1_path = 'file1.txt'\n",
    "file2_path = 'file2.txt'\n",
    "otuput_path = 'output.txt'\n",
    "\n",
    "with open(file1_path,'r') as file1,\\\n",
    "    open(file2_path,'r') as file2,\\\n",
    "    open(otuput_path,'w') as output_file:\n",
    "    for line1,line2 in zip(file1,file2):\n",
    "        combined_line = f\"{line1.strip()} {line2.strip()}\\n\"\n",
    "        output_file.write(combined_line)\n",
    "print(f\"Combined lines written to {otuput_path}\")"
   ]
  },
  {
   "cell_type": "code",
   "execution_count": null,
   "metadata": {},
   "outputs": [
    {
     "name": "stdout",
     "output_type": "stream",
     "text": [
      "asdergwe\n",
      "\n"
     ]
    }
   ],
   "source": [
    "#15\n",
    "import random\n",
    "path_file = 'new_number.txt'\n",
    "with open(path_file,'r') as file:\n",
    "    lines = file.readlines()\n",
    "    rand = random.randint(0,len(lines)-1)\n",
    "    print(lines[rand])"
   ]
  },
  {
   "cell_type": "code",
   "execution_count": null,
   "metadata": {},
   "outputs": [
    {
     "name": "stdout",
     "output_type": "stream",
     "text": [
      "Is the file closed?,False\n",
      "Is the file closed now?True\n"
     ]
    }
   ],
   "source": [
    "#16\n",
    "path_file = 'new_number.txt'\n",
    "file = open(path_file,'r')\n",
    "print(f\"Is the file closed?,{file.closed}\")\n",
    "file.close()\n",
    "print(f\"Is the file closed now?,{file.closed}\")"
   ]
  },
  {
   "cell_type": "code",
   "execution_count": 6,
   "metadata": {},
   "outputs": [],
   "source": [
    "#17\n",
    "path_file = 'new_number.txt'\n",
    "content = ()\n",
    "with open(path_file,'r') as file:\n",
    "    content = file.read()\n",
    "    content = content.replace('\\n','')\n",
    "with open(path_file,'w') as file:\n",
    "    file.write(content)"
   ]
  },
  {
   "cell_type": "code",
   "execution_count": 8,
   "metadata": {},
   "outputs": [
    {
     "name": "stdout",
     "output_type": "stream",
     "text": [
      "new_number.txt has 12 words\n"
     ]
    }
   ],
   "source": [
    "#18\n",
    "path_file = input(\"Enter:\")\n",
    "num = 0\n",
    "with open(path_file,'r') as file:\n",
    "    for i in file:\n",
    "        words = i.strip().split()\n",
    "        for a in words:\n",
    "            num += 1\n",
    "print(f\"{path_file} has {num} words\")"
   ]
  },
  {
   "cell_type": "code",
   "execution_count": null,
   "metadata": {},
   "outputs": [
    {
     "name": "stdout",
     "output_type": "stream",
     "text": [
      "['H', 'e', 'l', 'l', 'o', '\\n', 'H', 'o', 'w', ' ', 'a', 'r', 'e', '\\n', 'P', 'y', 't', 'h', 'o', 'n', 'W', 'o', 'r', 'l', 'd', '!', '\\n', 'y', 'o', 'u', '!', '\\n', 'i', 's', ' ', 'g', 'r', 'e', 'a', 't', '!', '\\n']\n"
     ]
    }
   ],
   "source": [
    "#19\n",
    "file1_path = 'file1.txt'\n",
    "file2_path = 'file2.txt'\n",
    "list_new = []\n",
    "with open(file1_path,'r') as file1:\n",
    "    content = file1.read()\n",
    "    characters = list(content)\n",
    "    list_new.extend(characters)\n",
    "with open(file2_path,'r') as file2:\n",
    "    content = file2.read()\n",
    "    characters = list(content)\n",
    "    list_new.extend(characters)\n",
    "print(list_new)"
   ]
  },
  {
   "cell_type": "code",
   "execution_count": null,
   "metadata": {},
   "outputs": [],
   "source": [
    "#20\n",
    "import string\n",
    "letters = list(string.ascii_uppercase)\n",
    "import os\n",
    "path_to = 'C:/Users/VakhobovJA/Documents/Python/Letters'\n",
    "if not os.path.exists(path_to):\n",
    "    os.makedirs(path_to)\n",
    "if os.path.exists(path_to):\n",
    "    for i in letters:\n",
    "        with open(f\"{path_to}/{i}.txt\",'w') as file:\n",
    "            pass\n"
   ]
  },
  {
   "cell_type": "code",
   "execution_count": null,
   "metadata": {},
   "outputs": [],
   "source": [
    "#21\n",
    "import string\n",
    "letters = list(string.ascii_uppercase)\n",
    "path_to = 'letters_list.txt'\n",
    "a = 1\n",
    "with open(path_to,'w') as file:\n",
    "    for i in letters:\n",
    "        line_to_write = f\"{i} - {a}\\n\"\n",
    "        file.write(line_to_write)\n",
    "        a += 1"
   ]
  }
 ],
 "metadata": {
  "kernelspec": {
   "display_name": "base",
   "language": "python",
   "name": "python3"
  },
  "language_info": {
   "codemirror_mode": {
    "name": "ipython",
    "version": 3
   },
   "file_extension": ".py",
   "mimetype": "text/x-python",
   "name": "python",
   "nbconvert_exporter": "python",
   "pygments_lexer": "ipython3",
   "version": "3.12.4"
  }
 },
 "nbformat": 4,
 "nbformat_minor": 2
}
