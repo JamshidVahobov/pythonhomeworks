{
 "cells": [
  {
   "cell_type": "code",
   "execution_count": 37,
   "id": "40ea1d97",
   "metadata": {},
   "outputs": [],
   "source": [
    "import pandas as pd\n",
    "import numpy as np"
   ]
  },
  {
   "cell_type": "code",
   "execution_count": 3,
   "id": "51354426",
   "metadata": {},
   "outputs": [],
   "source": [
    "data = {'First Name': ['Alice', 'Bob', 'Charlie', 'David'], 'Age': [25, 30, 35, 40], 'City': ['New York', 'San Francisco', 'Los Angeles', 'Chicago']} \n",
    "df = pd.DataFrame(data)"
   ]
  },
  {
   "cell_type": "markdown",
   "id": "30bd2c3d",
   "metadata": {},
   "source": [
    "#### Rename column names using function. \"First Name\" --> \"first_name\", \"Age\" --> \"age"
   ]
  },
  {
   "cell_type": "code",
   "execution_count": 12,
   "id": "6f4b20e4",
   "metadata": {},
   "outputs": [
    {
     "data": {
      "text/html": [
       "<div>\n",
       "<style scoped>\n",
       "    .dataframe tbody tr th:only-of-type {\n",
       "        vertical-align: middle;\n",
       "    }\n",
       "\n",
       "    .dataframe tbody tr th {\n",
       "        vertical-align: top;\n",
       "    }\n",
       "\n",
       "    .dataframe thead th {\n",
       "        text-align: right;\n",
       "    }\n",
       "</style>\n",
       "<table border=\"1\" class=\"dataframe\">\n",
       "  <thead>\n",
       "    <tr style=\"text-align: right;\">\n",
       "      <th></th>\n",
       "      <th>first_name</th>\n",
       "      <th>age</th>\n",
       "      <th>City</th>\n",
       "    </tr>\n",
       "  </thead>\n",
       "  <tbody>\n",
       "    <tr>\n",
       "      <th>0</th>\n",
       "      <td>Alice</td>\n",
       "      <td>25</td>\n",
       "      <td>New York</td>\n",
       "    </tr>\n",
       "    <tr>\n",
       "      <th>1</th>\n",
       "      <td>Bob</td>\n",
       "      <td>30</td>\n",
       "      <td>San Francisco</td>\n",
       "    </tr>\n",
       "    <tr>\n",
       "      <th>2</th>\n",
       "      <td>Charlie</td>\n",
       "      <td>35</td>\n",
       "      <td>Los Angeles</td>\n",
       "    </tr>\n",
       "    <tr>\n",
       "      <th>3</th>\n",
       "      <td>David</td>\n",
       "      <td>40</td>\n",
       "      <td>Chicago</td>\n",
       "    </tr>\n",
       "  </tbody>\n",
       "</table>\n",
       "</div>"
      ],
      "text/plain": [
       "  first_name  age           City\n",
       "0      Alice   25       New York\n",
       "1        Bob   30  San Francisco\n",
       "2    Charlie   35    Los Angeles\n",
       "3      David   40        Chicago"
      ]
     },
     "execution_count": 12,
     "metadata": {},
     "output_type": "execute_result"
    }
   ],
   "source": [
    "df.columns = ['first_name','age','City']\n",
    "df"
   ]
  },
  {
   "cell_type": "markdown",
   "id": "cdb61661",
   "metadata": {},
   "source": [
    "#### Print the first 3 rows of the DataFrame"
   ]
  },
  {
   "cell_type": "code",
   "execution_count": 14,
   "id": "b054a9b9",
   "metadata": {},
   "outputs": [
    {
     "data": {
      "text/html": [
       "<div>\n",
       "<style scoped>\n",
       "    .dataframe tbody tr th:only-of-type {\n",
       "        vertical-align: middle;\n",
       "    }\n",
       "\n",
       "    .dataframe tbody tr th {\n",
       "        vertical-align: top;\n",
       "    }\n",
       "\n",
       "    .dataframe thead th {\n",
       "        text-align: right;\n",
       "    }\n",
       "</style>\n",
       "<table border=\"1\" class=\"dataframe\">\n",
       "  <thead>\n",
       "    <tr style=\"text-align: right;\">\n",
       "      <th></th>\n",
       "      <th>first_name</th>\n",
       "      <th>age</th>\n",
       "      <th>City</th>\n",
       "    </tr>\n",
       "  </thead>\n",
       "  <tbody>\n",
       "    <tr>\n",
       "      <th>0</th>\n",
       "      <td>Alice</td>\n",
       "      <td>25</td>\n",
       "      <td>New York</td>\n",
       "    </tr>\n",
       "    <tr>\n",
       "      <th>1</th>\n",
       "      <td>Bob</td>\n",
       "      <td>30</td>\n",
       "      <td>San Francisco</td>\n",
       "    </tr>\n",
       "    <tr>\n",
       "      <th>2</th>\n",
       "      <td>Charlie</td>\n",
       "      <td>35</td>\n",
       "      <td>Los Angeles</td>\n",
       "    </tr>\n",
       "  </tbody>\n",
       "</table>\n",
       "</div>"
      ],
      "text/plain": [
       "  first_name  age           City\n",
       "0      Alice   25       New York\n",
       "1        Bob   30  San Francisco\n",
       "2    Charlie   35    Los Angeles"
      ]
     },
     "execution_count": 14,
     "metadata": {},
     "output_type": "execute_result"
    }
   ],
   "source": [
    "df.head(3)"
   ]
  },
  {
   "cell_type": "markdown",
   "id": "b66da7c5",
   "metadata": {},
   "source": [
    "#### Find the mean age of the individuals"
   ]
  },
  {
   "cell_type": "code",
   "execution_count": 17,
   "id": "156155e7",
   "metadata": {},
   "outputs": [
    {
     "data": {
      "text/plain": [
       "32.5"
      ]
     },
     "execution_count": 17,
     "metadata": {},
     "output_type": "execute_result"
    }
   ],
   "source": [
    "df['age'].mean()"
   ]
  },
  {
   "cell_type": "markdown",
   "id": "ff37ff07",
   "metadata": {},
   "source": [
    "#### Select and print only the 'Name' and 'City' columns"
   ]
  },
  {
   "cell_type": "code",
   "execution_count": 36,
   "id": "b0ef0f1f",
   "metadata": {},
   "outputs": [
    {
     "data": {
      "text/html": [
       "<div>\n",
       "<style scoped>\n",
       "    .dataframe tbody tr th:only-of-type {\n",
       "        vertical-align: middle;\n",
       "    }\n",
       "\n",
       "    .dataframe tbody tr th {\n",
       "        vertical-align: top;\n",
       "    }\n",
       "\n",
       "    .dataframe thead th {\n",
       "        text-align: right;\n",
       "    }\n",
       "</style>\n",
       "<table border=\"1\" class=\"dataframe\">\n",
       "  <thead>\n",
       "    <tr style=\"text-align: right;\">\n",
       "      <th></th>\n",
       "      <th>first_name</th>\n",
       "      <th>City</th>\n",
       "    </tr>\n",
       "  </thead>\n",
       "  <tbody>\n",
       "    <tr>\n",
       "      <th>0</th>\n",
       "      <td>Alice</td>\n",
       "      <td>New York</td>\n",
       "    </tr>\n",
       "    <tr>\n",
       "      <th>1</th>\n",
       "      <td>Bob</td>\n",
       "      <td>San Francisco</td>\n",
       "    </tr>\n",
       "    <tr>\n",
       "      <th>2</th>\n",
       "      <td>Charlie</td>\n",
       "      <td>Los Angeles</td>\n",
       "    </tr>\n",
       "    <tr>\n",
       "      <th>3</th>\n",
       "      <td>David</td>\n",
       "      <td>Chicago</td>\n",
       "    </tr>\n",
       "  </tbody>\n",
       "</table>\n",
       "</div>"
      ],
      "text/plain": [
       "  first_name           City\n",
       "0      Alice       New York\n",
       "1        Bob  San Francisco\n",
       "2    Charlie    Los Angeles\n",
       "3      David        Chicago"
      ]
     },
     "execution_count": 36,
     "metadata": {},
     "output_type": "execute_result"
    }
   ],
   "source": [
    "df[['first_name','City']]"
   ]
  },
  {
   "cell_type": "markdown",
   "id": "12783f11",
   "metadata": {},
   "source": [
    "#### Add a new column 'Salary' with random salary values"
   ]
  },
  {
   "cell_type": "code",
   "execution_count": 40,
   "id": "d812aa05",
   "metadata": {},
   "outputs": [
    {
     "data": {
      "text/html": [
       "<div>\n",
       "<style scoped>\n",
       "    .dataframe tbody tr th:only-of-type {\n",
       "        vertical-align: middle;\n",
       "    }\n",
       "\n",
       "    .dataframe tbody tr th {\n",
       "        vertical-align: top;\n",
       "    }\n",
       "\n",
       "    .dataframe thead th {\n",
       "        text-align: right;\n",
       "    }\n",
       "</style>\n",
       "<table border=\"1\" class=\"dataframe\">\n",
       "  <thead>\n",
       "    <tr style=\"text-align: right;\">\n",
       "      <th></th>\n",
       "      <th>first_name</th>\n",
       "      <th>age</th>\n",
       "      <th>City</th>\n",
       "      <th>Salary</th>\n",
       "    </tr>\n",
       "  </thead>\n",
       "  <tbody>\n",
       "    <tr>\n",
       "      <th>0</th>\n",
       "      <td>Alice</td>\n",
       "      <td>25</td>\n",
       "      <td>New York</td>\n",
       "      <td>12.058895</td>\n",
       "    </tr>\n",
       "    <tr>\n",
       "      <th>1</th>\n",
       "      <td>Bob</td>\n",
       "      <td>30</td>\n",
       "      <td>San Francisco</td>\n",
       "      <td>-11.414909</td>\n",
       "    </tr>\n",
       "    <tr>\n",
       "      <th>2</th>\n",
       "      <td>Charlie</td>\n",
       "      <td>35</td>\n",
       "      <td>Los Angeles</td>\n",
       "      <td>-1.839217</td>\n",
       "    </tr>\n",
       "    <tr>\n",
       "      <th>3</th>\n",
       "      <td>David</td>\n",
       "      <td>40</td>\n",
       "      <td>Chicago</td>\n",
       "      <td>19.389104</td>\n",
       "    </tr>\n",
       "  </tbody>\n",
       "</table>\n",
       "</div>"
      ],
      "text/plain": [
       "  first_name  age           City     Salary\n",
       "0      Alice   25       New York  12.058895\n",
       "1        Bob   30  San Francisco -11.414909\n",
       "2    Charlie   35    Los Angeles  -1.839217\n",
       "3      David   40        Chicago  19.389104"
      ]
     },
     "execution_count": 40,
     "metadata": {},
     "output_type": "execute_result"
    }
   ],
   "source": [
    "df['Salary'] = np.random.randn(4)*10\n",
    "df"
   ]
  },
  {
   "cell_type": "markdown",
   "id": "fb8186d2",
   "metadata": {},
   "source": [
    "#### Display summary statistics of the DataFrame"
   ]
  },
  {
   "cell_type": "code",
   "execution_count": 43,
   "id": "c1611788",
   "metadata": {},
   "outputs": [
    {
     "data": {
      "text/html": [
       "<div>\n",
       "<style scoped>\n",
       "    .dataframe tbody tr th:only-of-type {\n",
       "        vertical-align: middle;\n",
       "    }\n",
       "\n",
       "    .dataframe tbody tr th {\n",
       "        vertical-align: top;\n",
       "    }\n",
       "\n",
       "    .dataframe thead th {\n",
       "        text-align: right;\n",
       "    }\n",
       "</style>\n",
       "<table border=\"1\" class=\"dataframe\">\n",
       "  <thead>\n",
       "    <tr style=\"text-align: right;\">\n",
       "      <th></th>\n",
       "      <th>first_name</th>\n",
       "      <th>age</th>\n",
       "      <th>City</th>\n",
       "      <th>Salary</th>\n",
       "    </tr>\n",
       "  </thead>\n",
       "  <tbody>\n",
       "    <tr>\n",
       "      <th>count</th>\n",
       "      <td>4</td>\n",
       "      <td>4.000000</td>\n",
       "      <td>4</td>\n",
       "      <td>4.000000</td>\n",
       "    </tr>\n",
       "    <tr>\n",
       "      <th>unique</th>\n",
       "      <td>4</td>\n",
       "      <td>NaN</td>\n",
       "      <td>4</td>\n",
       "      <td>NaN</td>\n",
       "    </tr>\n",
       "    <tr>\n",
       "      <th>top</th>\n",
       "      <td>Alice</td>\n",
       "      <td>NaN</td>\n",
       "      <td>New York</td>\n",
       "      <td>NaN</td>\n",
       "    </tr>\n",
       "    <tr>\n",
       "      <th>freq</th>\n",
       "      <td>1</td>\n",
       "      <td>NaN</td>\n",
       "      <td>1</td>\n",
       "      <td>NaN</td>\n",
       "    </tr>\n",
       "    <tr>\n",
       "      <th>mean</th>\n",
       "      <td>NaN</td>\n",
       "      <td>32.500000</td>\n",
       "      <td>NaN</td>\n",
       "      <td>4.548468</td>\n",
       "    </tr>\n",
       "    <tr>\n",
       "      <th>std</th>\n",
       "      <td>NaN</td>\n",
       "      <td>6.454972</td>\n",
       "      <td>NaN</td>\n",
       "      <td>13.811625</td>\n",
       "    </tr>\n",
       "    <tr>\n",
       "      <th>min</th>\n",
       "      <td>NaN</td>\n",
       "      <td>25.000000</td>\n",
       "      <td>NaN</td>\n",
       "      <td>-11.414909</td>\n",
       "    </tr>\n",
       "    <tr>\n",
       "      <th>25%</th>\n",
       "      <td>NaN</td>\n",
       "      <td>28.750000</td>\n",
       "      <td>NaN</td>\n",
       "      <td>-4.233140</td>\n",
       "    </tr>\n",
       "    <tr>\n",
       "      <th>50%</th>\n",
       "      <td>NaN</td>\n",
       "      <td>32.500000</td>\n",
       "      <td>NaN</td>\n",
       "      <td>5.109839</td>\n",
       "    </tr>\n",
       "    <tr>\n",
       "      <th>75%</th>\n",
       "      <td>NaN</td>\n",
       "      <td>36.250000</td>\n",
       "      <td>NaN</td>\n",
       "      <td>13.891447</td>\n",
       "    </tr>\n",
       "    <tr>\n",
       "      <th>max</th>\n",
       "      <td>NaN</td>\n",
       "      <td>40.000000</td>\n",
       "      <td>NaN</td>\n",
       "      <td>19.389104</td>\n",
       "    </tr>\n",
       "  </tbody>\n",
       "</table>\n",
       "</div>"
      ],
      "text/plain": [
       "       first_name        age      City     Salary\n",
       "count           4   4.000000         4   4.000000\n",
       "unique          4        NaN         4        NaN\n",
       "top         Alice        NaN  New York        NaN\n",
       "freq            1        NaN         1        NaN\n",
       "mean          NaN  32.500000       NaN   4.548468\n",
       "std           NaN   6.454972       NaN  13.811625\n",
       "min           NaN  25.000000       NaN -11.414909\n",
       "25%           NaN  28.750000       NaN  -4.233140\n",
       "50%           NaN  32.500000       NaN   5.109839\n",
       "75%           NaN  36.250000       NaN  13.891447\n",
       "max           NaN  40.000000       NaN  19.389104"
      ]
     },
     "execution_count": 43,
     "metadata": {},
     "output_type": "execute_result"
    }
   ],
   "source": [
    "df.describe(include='all')"
   ]
  },
  {
   "cell_type": "markdown",
   "id": "f0cf8827",
   "metadata": {},
   "source": [
    "#### Create a DataFrame named sales_and_expenses with columns 'Month', 'Sales', and 'Expenses', representing monthly sales and expenses data. Use below table.\n",
    "#### Month\tSales\tExpenses\n",
    "#### Jan\t5000\t3000\n",
    "#### Feb\t6000\t3500\n",
    "#### Mar\t7500\t4000\n",
    "#### Apr\t8000\t4500"
   ]
  },
  {
   "cell_type": "code",
   "execution_count": 44,
   "id": "f9edf5c7",
   "metadata": {},
   "outputs": [
    {
     "data": {
      "text/html": [
       "<div>\n",
       "<style scoped>\n",
       "    .dataframe tbody tr th:only-of-type {\n",
       "        vertical-align: middle;\n",
       "    }\n",
       "\n",
       "    .dataframe tbody tr th {\n",
       "        vertical-align: top;\n",
       "    }\n",
       "\n",
       "    .dataframe thead th {\n",
       "        text-align: right;\n",
       "    }\n",
       "</style>\n",
       "<table border=\"1\" class=\"dataframe\">\n",
       "  <thead>\n",
       "    <tr style=\"text-align: right;\">\n",
       "      <th></th>\n",
       "      <th>Month</th>\n",
       "      <th>Sales</th>\n",
       "      <th>Expenses</th>\n",
       "    </tr>\n",
       "  </thead>\n",
       "  <tbody>\n",
       "    <tr>\n",
       "      <th>0</th>\n",
       "      <td>Jan</td>\n",
       "      <td>5000</td>\n",
       "      <td>3000</td>\n",
       "    </tr>\n",
       "    <tr>\n",
       "      <th>1</th>\n",
       "      <td>Feb</td>\n",
       "      <td>6000</td>\n",
       "      <td>3500</td>\n",
       "    </tr>\n",
       "    <tr>\n",
       "      <th>2</th>\n",
       "      <td>Mar</td>\n",
       "      <td>7500</td>\n",
       "      <td>4000</td>\n",
       "    </tr>\n",
       "    <tr>\n",
       "      <th>3</th>\n",
       "      <td>Apr</td>\n",
       "      <td>8000</td>\n",
       "      <td>4500</td>\n",
       "    </tr>\n",
       "  </tbody>\n",
       "</table>\n",
       "</div>"
      ],
      "text/plain": [
       "  Month  Sales  Expenses\n",
       "0   Jan   5000      3000\n",
       "1   Feb   6000      3500\n",
       "2   Mar   7500      4000\n",
       "3   Apr   8000      4500"
      ]
     },
     "execution_count": 44,
     "metadata": {},
     "output_type": "execute_result"
    }
   ],
   "source": [
    "data = {'Month':['Jan','Feb','Mar','Apr'],'Sales':[5000,6000,7500,8000],'Expenses':[3000,3500,4000,4500]}\n",
    "sales_and_expenses = pd.DataFrame(data)\n",
    "sales_and_expenses"
   ]
  },
  {
   "cell_type": "markdown",
   "id": "067ecb2d",
   "metadata": {},
   "source": [
    "#### Calculate and display the maximum sales and expenses."
   ]
  },
  {
   "cell_type": "code",
   "execution_count": 46,
   "id": "ca94e622",
   "metadata": {},
   "outputs": [
    {
     "name": "stdout",
     "output_type": "stream",
     "text": [
      "8000\n",
      "4500\n"
     ]
    }
   ],
   "source": [
    "print(sales_and_expenses['Sales'].max())\n",
    "print(sales_and_expenses['Expenses'].max())"
   ]
  },
  {
   "cell_type": "markdown",
   "id": "e9ae46ba",
   "metadata": {},
   "source": [
    "#### Calculate and display the minimum sales and expenses."
   ]
  },
  {
   "cell_type": "code",
   "execution_count": 47,
   "id": "4fbc92ee",
   "metadata": {},
   "outputs": [
    {
     "name": "stdout",
     "output_type": "stream",
     "text": [
      "5000\n",
      "3000\n"
     ]
    }
   ],
   "source": [
    "print(sales_and_expenses['Sales'].min())\n",
    "print(sales_and_expenses['Expenses'].min())"
   ]
  },
  {
   "cell_type": "markdown",
   "id": "9c25bb1d",
   "metadata": {},
   "source": [
    "#### Calculate and display the average sales and expenses."
   ]
  },
  {
   "cell_type": "code",
   "execution_count": null,
   "id": "f71bcd74",
   "metadata": {},
   "outputs": [
    {
     "name": "stdout",
     "output_type": "stream",
     "text": [
      "6625.0\n",
      "3750.0\n"
     ]
    }
   ],
   "source": [
    "print(sales_and_expenses['Sales'].mean())\n",
    "print(sales_and_expenses['Expenses'].mea())"
   ]
  },
  {
   "cell_type": "markdown",
   "id": "e42a4704",
   "metadata": {},
   "source": [
    "#### Create a DataFrame named expenses with columns 'Category', 'January', 'February', 'March', and 'April', representing monthly expenses for different categories. Use below table.\n",
    "#### Category\tJanuary\tFebruary\tMarch\tApril\n",
    "#### Rent\t1200\t1300\t1400\t1500\n",
    "#### Utilities\t200\t220\t240\t250\n",
    "#### Groceries\t300\t320\t330\t350\n",
    "#### Entertainment\t150\t160\t170\t180"
   ]
  },
  {
   "cell_type": "code",
   "execution_count": 59,
   "id": "969e7d41",
   "metadata": {},
   "outputs": [
    {
     "data": {
      "text/html": [
       "<div>\n",
       "<style scoped>\n",
       "    .dataframe tbody tr th:only-of-type {\n",
       "        vertical-align: middle;\n",
       "    }\n",
       "\n",
       "    .dataframe tbody tr th {\n",
       "        vertical-align: top;\n",
       "    }\n",
       "\n",
       "    .dataframe thead th {\n",
       "        text-align: right;\n",
       "    }\n",
       "</style>\n",
       "<table border=\"1\" class=\"dataframe\">\n",
       "  <thead>\n",
       "    <tr style=\"text-align: right;\">\n",
       "      <th></th>\n",
       "      <th>Category</th>\n",
       "      <th>January</th>\n",
       "      <th>February</th>\n",
       "      <th>March</th>\n",
       "      <th>April</th>\n",
       "    </tr>\n",
       "  </thead>\n",
       "  <tbody>\n",
       "    <tr>\n",
       "      <th>0</th>\n",
       "      <td>Rent</td>\n",
       "      <td>1200</td>\n",
       "      <td>1300</td>\n",
       "      <td>1400</td>\n",
       "      <td>1500</td>\n",
       "    </tr>\n",
       "    <tr>\n",
       "      <th>1</th>\n",
       "      <td>Utilities</td>\n",
       "      <td>200</td>\n",
       "      <td>220</td>\n",
       "      <td>240</td>\n",
       "      <td>250</td>\n",
       "    </tr>\n",
       "    <tr>\n",
       "      <th>2</th>\n",
       "      <td>Groceries</td>\n",
       "      <td>300</td>\n",
       "      <td>320</td>\n",
       "      <td>330</td>\n",
       "      <td>350</td>\n",
       "    </tr>\n",
       "    <tr>\n",
       "      <th>3</th>\n",
       "      <td>Entertainment</td>\n",
       "      <td>150</td>\n",
       "      <td>160</td>\n",
       "      <td>160</td>\n",
       "      <td>180</td>\n",
       "    </tr>\n",
       "  </tbody>\n",
       "</table>\n",
       "</div>"
      ],
      "text/plain": [
       "        Category  January  February  March  April\n",
       "0           Rent     1200      1300   1400   1500\n",
       "1      Utilities      200       220    240    250\n",
       "2      Groceries      300       320    330    350\n",
       "3  Entertainment      150       160    160    180"
      ]
     },
     "execution_count": 59,
     "metadata": {},
     "output_type": "execute_result"
    }
   ],
   "source": [
    "data = {'Category':['Rent','Utilities','Groceries','Entertainment'],'January':[1200,200,300,150],'February':[1300,220,320,160],'March':[1400,240,330,160],'April':[1500,250,350,180]}\n",
    "expenses = pd.DataFrame(data)\n",
    "expenses"
   ]
  },
  {
   "cell_type": "markdown",
   "id": "374eaf37",
   "metadata": {},
   "source": [
    "#### Calculate and display the maximum expense for each category."
   ]
  },
  {
   "cell_type": "code",
   "execution_count": 68,
   "id": "03a8bbdf",
   "metadata": {},
   "outputs": [
    {
     "data": {
      "text/plain": [
       "0    1500\n",
       "1     250\n",
       "2     350\n",
       "3     180\n",
       "dtype: int64"
      ]
     },
     "execution_count": 68,
     "metadata": {},
     "output_type": "execute_result"
    }
   ],
   "source": [
    "max_expenses = expenses.iloc[:,1:].max(axis=1)\n",
    "max_expenses"
   ]
  },
  {
   "cell_type": "markdown",
   "id": "68e050a3",
   "metadata": {},
   "source": [
    "#### Calculate and display the minimum expense for each category."
   ]
  },
  {
   "cell_type": "code",
   "execution_count": 70,
   "id": "209d3692",
   "metadata": {},
   "outputs": [
    {
     "data": {
      "text/plain": [
       "0    1200\n",
       "1     200\n",
       "2     300\n",
       "3     150\n",
       "dtype: int64"
      ]
     },
     "execution_count": 70,
     "metadata": {},
     "output_type": "execute_result"
    }
   ],
   "source": [
    "min_expenses = expenses.iloc[:,1:].min(axis=1)\n",
    "min_expenses"
   ]
  },
  {
   "cell_type": "markdown",
   "id": "a9038fa8",
   "metadata": {},
   "source": [
    "#### Calculate and display the average expense for each category."
   ]
  },
  {
   "cell_type": "code",
   "execution_count": 73,
   "id": "8b7a6e00",
   "metadata": {},
   "outputs": [
    {
     "data": {
      "text/plain": [
       "0    1350.0\n",
       "1     227.5\n",
       "2     325.0\n",
       "3     162.5\n",
       "dtype: float64"
      ]
     },
     "execution_count": 73,
     "metadata": {},
     "output_type": "execute_result"
    }
   ],
   "source": [
    "avg_expenses = expenses.iloc[:,1:].mean(axis=1)\n",
    "avg_expenses"
   ]
  },
  {
   "cell_type": "code",
   "execution_count": 76,
   "id": "882185cc",
   "metadata": {},
   "outputs": [
    {
     "data": {
      "text/plain": [
       "Category\n",
       "Rent             1350.0\n",
       "Utilities         227.5\n",
       "Groceries         325.0\n",
       "Entertainment     162.5\n",
       "dtype: float64"
      ]
     },
     "execution_count": 76,
     "metadata": {},
     "output_type": "execute_result"
    }
   ],
   "source": [
    "expenses.set_index('Category').mean(axis=1)"
   ]
  },
  {
   "cell_type": "code",
   "execution_count": 125,
   "id": "ac4c1c9a",
   "metadata": {},
   "outputs": [
    {
     "data": {
      "text/html": [
       "<div>\n",
       "<style scoped>\n",
       "    .dataframe tbody tr th:only-of-type {\n",
       "        vertical-align: middle;\n",
       "    }\n",
       "\n",
       "    .dataframe tbody tr th {\n",
       "        vertical-align: top;\n",
       "    }\n",
       "\n",
       "    .dataframe thead th {\n",
       "        text-align: right;\n",
       "    }\n",
       "</style>\n",
       "<table border=\"1\" class=\"dataframe\">\n",
       "  <thead>\n",
       "    <tr style=\"text-align: right;\">\n",
       "      <th></th>\n",
       "      <th>BusinessEntityID</th>\n",
       "      <th>SalesYear</th>\n",
       "      <th>CurrentQuota</th>\n",
       "      <th>CurrentData</th>\n",
       "    </tr>\n",
       "  </thead>\n",
       "  <tbody>\n",
       "    <tr>\n",
       "      <th>0</th>\n",
       "      <td>275</td>\n",
       "      <td>2005</td>\n",
       "      <td>367000</td>\n",
       "      <td>NaN</td>\n",
       "    </tr>\n",
       "    <tr>\n",
       "      <th>1</th>\n",
       "      <td>275</td>\n",
       "      <td>2005</td>\n",
       "      <td>556000</td>\n",
       "      <td>367000.0</td>\n",
       "    </tr>\n",
       "    <tr>\n",
       "      <th>2</th>\n",
       "      <td>275</td>\n",
       "      <td>2006</td>\n",
       "      <td>502000</td>\n",
       "      <td>556000.0</td>\n",
       "    </tr>\n",
       "    <tr>\n",
       "      <th>3</th>\n",
       "      <td>275</td>\n",
       "      <td>2006</td>\n",
       "      <td>550000</td>\n",
       "      <td>502000.0</td>\n",
       "    </tr>\n",
       "    <tr>\n",
       "      <th>4</th>\n",
       "      <td>275</td>\n",
       "      <td>2006</td>\n",
       "      <td>1429000</td>\n",
       "      <td>550000.0</td>\n",
       "    </tr>\n",
       "    <tr>\n",
       "      <th>5</th>\n",
       "      <td>275</td>\n",
       "      <td>2006</td>\n",
       "      <td>1324000</td>\n",
       "      <td>1429000.0</td>\n",
       "    </tr>\n",
       "  </tbody>\n",
       "</table>\n",
       "</div>"
      ],
      "text/plain": [
       "   BusinessEntityID  SalesYear  CurrentQuota  CurrentData\n",
       "0               275       2005        367000          NaN\n",
       "1               275       2005        556000     367000.0\n",
       "2               275       2006        502000     556000.0\n",
       "3               275       2006        550000     502000.0\n",
       "4               275       2006       1429000     550000.0\n",
       "5               275       2006       1324000    1429000.0"
      ]
     },
     "execution_count": 125,
     "metadata": {},
     "output_type": "execute_result"
    }
   ],
   "source": [
    "data = {'BusinessEntityID':[275,275,275,275,275,275],'SalesYear':[2005,2005,2006,2006,2006,2006],'CurrentQuota':[367000,556000,502000,550000,1429000,1324000]}\n",
    "lag = pd.DataFrame(data)\n",
    "lag['CurrentData'] = lag['CurrentQuota'].shift(1)\n",
    "lag"
   ]
  },
  {
   "cell_type": "code",
   "execution_count": 126,
   "id": "89e1b109",
   "metadata": {},
   "outputs": [
    {
     "data": {
      "text/html": [
       "<div>\n",
       "<style scoped>\n",
       "    .dataframe tbody tr th:only-of-type {\n",
       "        vertical-align: middle;\n",
       "    }\n",
       "\n",
       "    .dataframe tbody tr th {\n",
       "        vertical-align: top;\n",
       "    }\n",
       "\n",
       "    .dataframe thead th {\n",
       "        text-align: right;\n",
       "    }\n",
       "</style>\n",
       "<table border=\"1\" class=\"dataframe\">\n",
       "  <thead>\n",
       "    <tr style=\"text-align: right;\">\n",
       "      <th></th>\n",
       "      <th>BusinessEntityID</th>\n",
       "      <th>SalesYear</th>\n",
       "      <th>CurrentQuota</th>\n",
       "      <th>CurrentData</th>\n",
       "    </tr>\n",
       "  </thead>\n",
       "  <tbody>\n",
       "    <tr>\n",
       "      <th>0</th>\n",
       "      <td>275</td>\n",
       "      <td>2005</td>\n",
       "      <td>367000</td>\n",
       "      <td>556000.0</td>\n",
       "    </tr>\n",
       "    <tr>\n",
       "      <th>1</th>\n",
       "      <td>275</td>\n",
       "      <td>2005</td>\n",
       "      <td>556000</td>\n",
       "      <td>502000.0</td>\n",
       "    </tr>\n",
       "    <tr>\n",
       "      <th>2</th>\n",
       "      <td>275</td>\n",
       "      <td>2006</td>\n",
       "      <td>502000</td>\n",
       "      <td>550000.0</td>\n",
       "    </tr>\n",
       "    <tr>\n",
       "      <th>3</th>\n",
       "      <td>275</td>\n",
       "      <td>2006</td>\n",
       "      <td>550000</td>\n",
       "      <td>1429000.0</td>\n",
       "    </tr>\n",
       "    <tr>\n",
       "      <th>4</th>\n",
       "      <td>275</td>\n",
       "      <td>2006</td>\n",
       "      <td>1429000</td>\n",
       "      <td>1324000.0</td>\n",
       "    </tr>\n",
       "    <tr>\n",
       "      <th>5</th>\n",
       "      <td>275</td>\n",
       "      <td>2006</td>\n",
       "      <td>1324000</td>\n",
       "      <td>NaN</td>\n",
       "    </tr>\n",
       "  </tbody>\n",
       "</table>\n",
       "</div>"
      ],
      "text/plain": [
       "   BusinessEntityID  SalesYear  CurrentQuota  CurrentData\n",
       "0               275       2005        367000     556000.0\n",
       "1               275       2005        556000     502000.0\n",
       "2               275       2006        502000     550000.0\n",
       "3               275       2006        550000    1429000.0\n",
       "4               275       2006       1429000    1324000.0\n",
       "5               275       2006       1324000          NaN"
      ]
     },
     "execution_count": 126,
     "metadata": {},
     "output_type": "execute_result"
    }
   ],
   "source": [
    "data = {'BusinessEntityID':[275,275,275,275,275,275],'SalesYear':[2005,2005,2006,2006,2006,2006],'CurrentQuota':[367000,556000,502000,550000,1429000,1324000]}\n",
    "lag = pd.DataFrame(data)\n",
    "lag['CurrentData'] = lag['CurrentQuota'].shift(-1)\n",
    "lag"
   ]
  },
  {
   "cell_type": "code",
   "execution_count": 132,
   "id": "62d23ca2",
   "metadata": {},
   "outputs": [
    {
     "data": {
      "text/html": [
       "<div>\n",
       "<style scoped>\n",
       "    .dataframe tbody tr th:only-of-type {\n",
       "        vertical-align: middle;\n",
       "    }\n",
       "\n",
       "    .dataframe tbody tr th {\n",
       "        vertical-align: top;\n",
       "    }\n",
       "\n",
       "    .dataframe thead th {\n",
       "        text-align: right;\n",
       "    }\n",
       "</style>\n",
       "<table border=\"1\" class=\"dataframe\">\n",
       "  <thead>\n",
       "    <tr style=\"text-align: right;\">\n",
       "      <th></th>\n",
       "      <th>EmpId</th>\n",
       "      <th>EmpName</th>\n",
       "      <th>BirthDate</th>\n",
       "    </tr>\n",
       "  </thead>\n",
       "  <tbody>\n",
       "    <tr>\n",
       "      <th>2</th>\n",
       "      <td>3</td>\n",
       "      <td>Parveen</td>\n",
       "      <td>1977-05-07</td>\n",
       "    </tr>\n",
       "    <tr>\n",
       "      <th>4</th>\n",
       "      <td>5</td>\n",
       "      <td>Ramesh</td>\n",
       "      <td>1983-05-09</td>\n",
       "    </tr>\n",
       "  </tbody>\n",
       "</table>\n",
       "</div>"
      ],
      "text/plain": [
       "   EmpId  EmpName  BirthDate\n",
       "2      3  Parveen 1977-05-07\n",
       "4      5   Ramesh 1983-05-09"
      ]
     },
     "execution_count": 132,
     "metadata": {},
     "output_type": "execute_result"
    }
   ],
   "source": [
    "data = {'EmpId':[1,2,3,4,5],'EmpName':['Pawan','Zuzu','Parveen','Mahesh','Ramesh'],'BirthDate':['04-12-1983','28-11-1986','07-05-1977','13-01-1983','09-05-1983']}\n",
    "Birthday = pd.DataFrame(data)\n",
    "Birthday['BirthDate'] = pd.to_datetime(Birthday['BirthDate'], format='%d-%m-%Y')\n",
    "filtered = Birthday[\n",
    "    (Birthday['BirthDate'].dt.month == 5) &\n",
    "    (Birthday['BirthDate'].dt.day >= 7) &\n",
    "    (Birthday['BirthDate'].dt.day <= 15)\n",
    "                    ]\n",
    "filtered"
   ]
  },
  {
   "cell_type": "markdown",
   "id": "4409db9e",
   "metadata": {},
   "source": [
    "#### 5th Question should be solved"
   ]
  },
  {
   "cell_type": "code",
   "execution_count": null,
   "id": "6cbcddb1",
   "metadata": {},
   "outputs": [
    {
     "data": {
      "text/html": [
       "<div>\n",
       "<style scoped>\n",
       "    .dataframe tbody tr th:only-of-type {\n",
       "        vertical-align: middle;\n",
       "    }\n",
       "\n",
       "    .dataframe tbody tr th {\n",
       "        vertical-align: top;\n",
       "    }\n",
       "\n",
       "    .dataframe thead th {\n",
       "        text-align: right;\n",
       "    }\n",
       "</style>\n",
       "<table border=\"1\" class=\"dataframe\">\n",
       "  <thead>\n",
       "    <tr style=\"text-align: right;\">\n",
       "      <th></th>\n",
       "      <th>ID</th>\n",
       "      <th>Name</th>\n",
       "      <th>Typed</th>\n",
       "    </tr>\n",
       "  </thead>\n",
       "  <tbody>\n",
       "    <tr>\n",
       "      <th>0</th>\n",
       "      <td>False</td>\n",
       "      <td>False</td>\n",
       "      <td>True</td>\n",
       "    </tr>\n",
       "    <tr>\n",
       "      <th>1</th>\n",
       "      <td>False</td>\n",
       "      <td>True</td>\n",
       "      <td>False</td>\n",
       "    </tr>\n",
       "  </tbody>\n",
       "</table>\n",
       "</div>"
      ],
      "text/plain": [
       "      ID   Name  Typed\n",
       "0  False  False   True\n",
       "1  False   True  False"
      ]
     },
     "execution_count": 135,
     "metadata": {},
     "output_type": "execute_result"
    }
   ],
   "source": [
    "data = {'ID':[1,1],'Name':['P',np.nan],'Typed':[np.nan,'Q']}\n",
    "unwanted_null = pd.DataFrame(data)\n",
    "unwanted_null.isna()"
   ]
  },
  {
   "cell_type": "code",
   "execution_count": 136,
   "id": "f1709ad2",
   "metadata": {},
   "outputs": [
    {
     "name": "stdout",
     "output_type": "stream",
     "text": [
      "  EmployeeID  Salary\n",
      "0         e5   45000\n",
      "1         e3   30000\n",
      "2         e2   49000\n",
      "3         e4   36600\n",
      "4         e1   58000\n"
     ]
    }
   ],
   "source": [
    "data = [\n",
    "    ['e5', 45000],\n",
    "    ['e3', 30000],\n",
    "    ['e2', 49000],\n",
    "    ['e4', 36600],\n",
    "    ['e1', 58000]\n",
    "]\n",
    "\n",
    "df = pd.DataFrame(data, columns=['EmployeeID', 'Salary'])\n",
    "print(df)\n"
   ]
  },
  {
   "cell_type": "code",
   "execution_count": 148,
   "id": "1dfb61ac",
   "metadata": {},
   "outputs": [
    {
     "data": {
      "text/html": [
       "<div>\n",
       "<style scoped>\n",
       "    .dataframe tbody tr th:only-of-type {\n",
       "        vertical-align: middle;\n",
       "    }\n",
       "\n",
       "    .dataframe tbody tr th {\n",
       "        vertical-align: top;\n",
       "    }\n",
       "\n",
       "    .dataframe thead th {\n",
       "        text-align: right;\n",
       "    }\n",
       "</style>\n",
       "<table border=\"1\" class=\"dataframe\">\n",
       "  <thead>\n",
       "    <tr style=\"text-align: right;\">\n",
       "      <th></th>\n",
       "      <th>Salary</th>\n",
       "    </tr>\n",
       "  </thead>\n",
       "  <tbody>\n",
       "    <tr>\n",
       "      <th>2</th>\n",
       "      <td>49000</td>\n",
       "    </tr>\n",
       "  </tbody>\n",
       "</table>\n",
       "</div>"
      ],
      "text/plain": [
       "   Salary\n",
       "2   49000"
      ]
     },
     "execution_count": 148,
     "metadata": {},
     "output_type": "execute_result"
    }
   ],
   "source": [
    "df.sort_values(by='Salary', ascending=False).iloc[1:2,1:]"
   ]
  },
  {
   "cell_type": "code",
   "execution_count": 157,
   "id": "f1d2fc04",
   "metadata": {},
   "outputs": [
    {
     "data": {
      "text/html": [
       "<div>\n",
       "<style scoped>\n",
       "    .dataframe tbody tr th:only-of-type {\n",
       "        vertical-align: middle;\n",
       "    }\n",
       "\n",
       "    .dataframe tbody tr th {\n",
       "        vertical-align: top;\n",
       "    }\n",
       "\n",
       "    .dataframe thead th {\n",
       "        text-align: right;\n",
       "    }\n",
       "</style>\n",
       "<table border=\"1\" class=\"dataframe\">\n",
       "  <thead>\n",
       "    <tr style=\"text-align: right;\">\n",
       "      <th></th>\n",
       "      <th>ID</th>\n",
       "      <th>SumPreValues</th>\n",
       "    </tr>\n",
       "  </thead>\n",
       "  <tbody>\n",
       "    <tr>\n",
       "      <th>0</th>\n",
       "      <td>1</td>\n",
       "      <td>1</td>\n",
       "    </tr>\n",
       "    <tr>\n",
       "      <th>1</th>\n",
       "      <td>2</td>\n",
       "      <td>3</td>\n",
       "    </tr>\n",
       "    <tr>\n",
       "      <th>2</th>\n",
       "      <td>3</td>\n",
       "      <td>6</td>\n",
       "    </tr>\n",
       "    <tr>\n",
       "      <th>3</th>\n",
       "      <td>4</td>\n",
       "      <td>10</td>\n",
       "    </tr>\n",
       "    <tr>\n",
       "      <th>4</th>\n",
       "      <td>5</td>\n",
       "      <td>15</td>\n",
       "    </tr>\n",
       "  </tbody>\n",
       "</table>\n",
       "</div>"
      ],
      "text/plain": [
       "   ID  SumPreValues\n",
       "0   1             1\n",
       "1   2             3\n",
       "2   3             6\n",
       "3   4            10\n",
       "4   5            15"
      ]
     },
     "execution_count": 157,
     "metadata": {},
     "output_type": "execute_result"
    }
   ],
   "source": [
    "data = {'ID':[1,2,3,4,5]}\n",
    "summ_previous = pd.DataFrame(data)\n",
    "summ_previous['SumPreValues'] = summ_previous['ID'].cumsum()\n",
    "summ_previous"
   ]
  },
  {
   "cell_type": "code",
   "execution_count": 163,
   "id": "3d1805e9",
   "metadata": {},
   "outputs": [
    {
     "data": {
      "text/plain": [
       "Year1\n",
       "2001    101\n",
       "2002    103\n",
       "2003     89\n",
       "2004     91\n",
       "dtype: int64"
      ]
     },
     "execution_count": 163,
     "metadata": {},
     "output_type": "execute_result"
    }
   ],
   "source": [
    "data = {\n",
    "    'Year1': [2001, 2002, 2003, 2004],\n",
    "    'Max1': [10, 103, 21, 27],\n",
    "    'Max2': [101, 19, 23, 28],\n",
    "    'Max3': [87, 88, 89, 91]\n",
    "}\n",
    "\n",
    "df = pd.DataFrame(data)\n",
    "\n",
    "df.set_index('Year1').max(axis= 1)"
   ]
  },
  {
   "cell_type": "code",
   "execution_count": null,
   "id": "0ab2698b",
   "metadata": {},
   "outputs": [],
   "source": [
    "#### Should find the answer of 9"
   ]
  },
  {
   "cell_type": "code",
   "execution_count": 164,
   "id": "638c3dc3",
   "metadata": {},
   "outputs": [
    {
     "data": {
      "text/html": [
       "<div>\n",
       "<style scoped>\n",
       "    .dataframe tbody tr th:only-of-type {\n",
       "        vertical-align: middle;\n",
       "    }\n",
       "\n",
       "    .dataframe tbody tr th {\n",
       "        vertical-align: top;\n",
       "    }\n",
       "\n",
       "    .dataframe thead th {\n",
       "        text-align: right;\n",
       "    }\n",
       "</style>\n",
       "<table border=\"1\" class=\"dataframe\">\n",
       "  <thead>\n",
       "    <tr style=\"text-align: right;\">\n",
       "      <th></th>\n",
       "      <th>EmpID</th>\n",
       "      <th>EmpName</th>\n",
       "      <th>EmpSalary</th>\n",
       "      <th>MgrID</th>\n",
       "    </tr>\n",
       "  </thead>\n",
       "  <tbody>\n",
       "    <tr>\n",
       "      <th>0</th>\n",
       "      <td>1</td>\n",
       "      <td>Pawan</td>\n",
       "      <td>80000</td>\n",
       "      <td>4.0</td>\n",
       "    </tr>\n",
       "    <tr>\n",
       "      <th>1</th>\n",
       "      <td>2</td>\n",
       "      <td>Dheeraj</td>\n",
       "      <td>70000</td>\n",
       "      <td>4.0</td>\n",
       "    </tr>\n",
       "    <tr>\n",
       "      <th>2</th>\n",
       "      <td>3</td>\n",
       "      <td>Isha</td>\n",
       "      <td>100000</td>\n",
       "      <td>4.0</td>\n",
       "    </tr>\n",
       "    <tr>\n",
       "      <th>3</th>\n",
       "      <td>4</td>\n",
       "      <td>Joteep</td>\n",
       "      <td>90000</td>\n",
       "      <td>NaN</td>\n",
       "    </tr>\n",
       "    <tr>\n",
       "      <th>4</th>\n",
       "      <td>5</td>\n",
       "      <td>Suchita</td>\n",
       "      <td>110000</td>\n",
       "      <td>4.0</td>\n",
       "    </tr>\n",
       "  </tbody>\n",
       "</table>\n",
       "</div>"
      ],
      "text/plain": [
       "   EmpID  EmpName  EmpSalary  MgrID\n",
       "0      1    Pawan      80000    4.0\n",
       "1      2  Dheeraj      70000    4.0\n",
       "2      3     Isha     100000    4.0\n",
       "3      4   Joteep      90000    NaN\n",
       "4      5  Suchita     110000    4.0"
      ]
     },
     "execution_count": 164,
     "metadata": {},
     "output_type": "execute_result"
    }
   ],
   "source": [
    "data = {\n",
    "    'EmpID': [1, 2, 3, 4, 5],\n",
    "    'EmpName': ['Pawan', 'Dheeraj', 'Isha', 'Joteep', 'Suchita'],\n",
    "    'EmpSalary': [80000, 70000, 100000, 90000, 110000],\n",
    "    'MgrID': [4, 4, 4, None, 4]  # or use np.nan instead of None\n",
    "}\n",
    "\n",
    "df = pd.DataFrame(data)\n",
    "df"
   ]
  },
  {
   "cell_type": "markdown",
   "id": "7bb7770a",
   "metadata": {},
   "source": [
    "#### In this puzzle we have to find the 2nd highest salary from each department. Please check out the sample input and expected output for details."
   ]
  },
  {
   "cell_type": "code",
   "execution_count": 165,
   "id": "eb2091b5",
   "metadata": {},
   "outputs": [
    {
     "name": "stdout",
     "output_type": "stream",
     "text": [
      "   DeptID DeptName\n",
      "0       1  Finance\n",
      "1       2       IT\n",
      "2       3       HR\n",
      "   EmpID  EmpName  DeptID  EmpSalary\n",
      "0    101     Isha       1       7000\n",
      "1    111     Esha       1       8970\n",
      "2    102   Mayank       1       8900\n",
      "3    103   Ramesh       2       4000\n",
      "4    104   Avtaar       2       9000\n",
      "5    105    Gopal       3      17000\n",
      "6    106  Krishna       3       1000\n",
      "7    107  Suchita       3       7000\n",
      "8    108   Ranjan       3      17900\n"
     ]
    }
   ],
   "source": [
    "dept_data = {\n",
    "    'DeptID': [1, 2, 3],\n",
    "    'DeptName': ['Finance', 'IT', 'HR']\n",
    "}\n",
    "Department = pd.DataFrame(dept_data)\n",
    "\n",
    "emp_data = {\n",
    "    'EmpID': [101, 111, 102, 103, 104, 105, 106, 107, 108],\n",
    "    'EmpName': ['Isha', 'Esha', 'Mayank', 'Ramesh', 'Avtaar', 'Gopal', 'Krishna', 'Suchita', 'Ranjan'],\n",
    "    'DeptID': [1, 1, 1, 2, 2, 3, 3, 3, 3],\n",
    "    'EmpSalary': [7000, 8970, 8900, 4000, 9000, 17000, 1000, 7000, 17900]\n",
    "}\n",
    "Emps = pd.DataFrame(emp_data)\n",
    "print(Department)\n",
    "print(Emps)"
   ]
  },
  {
   "cell_type": "code",
   "execution_count": null,
   "id": "1895de94",
   "metadata": {},
   "outputs": [],
   "source": []
  }
 ],
 "metadata": {
  "kernelspec": {
   "display_name": "base",
   "language": "python",
   "name": "python3"
  },
  "language_info": {
   "codemirror_mode": {
    "name": "ipython",
    "version": 3
   },
   "file_extension": ".py",
   "mimetype": "text/x-python",
   "name": "python",
   "nbconvert_exporter": "python",
   "pygments_lexer": "ipython3",
   "version": "3.12.4"
  }
 },
 "nbformat": 4,
 "nbformat_minor": 5
}
