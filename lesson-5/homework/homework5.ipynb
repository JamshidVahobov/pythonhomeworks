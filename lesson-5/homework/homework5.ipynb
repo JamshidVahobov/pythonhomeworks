{
 "cells": [
  {
   "cell_type": "code",
   "execution_count": 1,
   "metadata": {},
   "outputs": [
    {
     "data": {
      "text/plain": [
       "False"
      ]
     },
     "execution_count": 1,
     "metadata": {},
     "output_type": "execute_result"
    }
   ],
   "source": [
    "def is_leap(year):\n",
    "    \"\"\"\n",
    "    Determines whether a given year is a leap year.\n",
    "\n",
    "    A year is a leap year if:\n",
    "    - It is divisible by 4, and\n",
    "    - It is NOT divisible by 100, unless it is also divisible by 400.\n",
    "\n",
    "    Parameters:\n",
    "    year (int): The year to be checked.\n",
    "\n",
    "    Returns:\n",
    "    bool: True if the year is a leap year, False otherwise.\n",
    "    \"\"\"\n",
    "    if not isinstance(year, int):\n",
    "        raise ValueError(\"Year must be an integer.\")\n",
    "    \n",
    "    return (year % 4 == 0 and year % 100 != 0) or (year % 400 == 0)\n",
    "is_leap(2025)"
   ]
  },
  {
   "cell_type": "code",
   "execution_count": 2,
   "metadata": {},
   "outputs": [
    {
     "name": "stdout",
     "output_type": "stream",
     "text": [
      "weird\n"
     ]
    }
   ],
   "source": [
    "integer = input(f\"Please enter an integer that is in this 1<=n<=100:\")\n",
    "if integer.isdigit():\n",
    "    integer = int(integer)\n",
    "    if integer>=1 and integer<=100:\n",
    "        if integer%2 == 0:\n",
    "            if integer>=2 and integer<=5:\n",
    "                print('Not weird')\n",
    "            elif integer>=6 and integer<=20:\n",
    "                print('Weird')\n",
    "            else:\n",
    "                print('Not weird')\n",
    "        else:\n",
    "            print('weird')\n",
    "    else:\n",
    "        print(f'Enter an integer in this range 1<=n<=100')  \n",
    "else:\n",
    "    print(f'Enter an integer in this range 1<=n<=100')\n"
   ]
  },
  {
   "cell_type": "code",
   "execution_count": 4,
   "metadata": {},
   "outputs": [
    {
     "name": "stdout",
     "output_type": "stream",
     "text": [
      "[46, 48, 50, 52, 54, 56, 58, 60, 62, 64, 66, 68, 70, 72, 74, 76, 78, 80, 82, 84, 86, 88, 90, 92, 94]\n"
     ]
    }
   ],
   "source": [
    "a = input(f\"Please enter an integer that will be the lower border\")\n",
    "b = input(f\"Please enter an integer that will be the higher border\")\n",
    "if a.isdigit() and b.isdigit() and int(b)>int(a):\n",
    "    a = int(a)\n",
    "    b = int(b)\n",
    "    r = range(a,b+1)\n",
    "    i = 0\n",
    "    new_list = []\n",
    "    while i < len(list(r)):\n",
    "        if list(r)[i]%2 == 0:\n",
    "            new_list.append(list(r)[i])\n",
    "            i += 1\n",
    "        else:\n",
    "            i += 1\n",
    "    print(new_list)\n",
    "  \n",
    "else:\n",
    "    print(f'Enter an integer where a < b')\n"
   ]
  },
  {
   "cell_type": "code",
   "execution_count": 13,
   "metadata": {},
   "outputs": [
    {
     "name": "stdout",
     "output_type": "stream",
     "text": [
      "[2, 4, 6, 8, 10, 12, 14, 16, 18, 20, 22, 24, 26, 28, 30, 32, 34, 36, 38, 40]\n"
     ]
    }
   ],
   "source": [
    "a = input(f\"Please enter an integer that will be the lower border\")\n",
    "b = input(f\"Please enter an integer that will be the higher border\")\n",
    "if a.isdigit() and b.isdigit() and int(b)>int(a):\n",
    "    a = int(a)\n",
    "    b = int(b)\n",
    "    a = a + (a%2)\n",
    "    print(list(range(a,b+1,2)))\n",
    "else:\n",
    "    print(f'Enter an integer where a < b')"
   ]
  }
 ],
 "metadata": {
  "kernelspec": {
   "display_name": "Python 3",
   "language": "python",
   "name": "python3"
  },
  "language_info": {
   "codemirror_mode": {
    "name": "ipython",
    "version": 3
   },
   "file_extension": ".py",
   "mimetype": "text/x-python",
   "name": "python",
   "nbconvert_exporter": "python",
   "pygments_lexer": "ipython3",
   "version": "3.11.9"
  }
 },
 "nbformat": 4,
 "nbformat_minor": 2
}
