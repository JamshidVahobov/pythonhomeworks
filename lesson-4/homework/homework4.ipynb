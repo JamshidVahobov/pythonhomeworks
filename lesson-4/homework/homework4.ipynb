{
 "cells": [
  {
   "cell_type": "code",
   "execution_count": 39,
   "metadata": {},
   "outputs": [
    {
     "name": "stdout",
     "output_type": "stream",
     "text": [
      "This is the dictionary in ascending order by keys: \n",
      "{'Current_region': 'Tashkent', 'Workplace': 'Bank', 'region': 'Jizzakh', 'school': 'seventy-fifth school'} \n",
      " And this is the dictionary in descending order by keys: \n",
      "{'school': 'seventy-fifth school', 'region': 'Jizzakh', 'Workplace': 'Bank', 'Current_region': 'Tashkent'}\n"
     ]
    }
   ],
   "source": [
    "#Homeworks:\n",
    "\n",
    "# Python Dictionary and Set Exercises\n",
    "\n",
    "## Dictionary Exercises\n",
    "\n",
    "### 1. Sort a Dictionary by Value\n",
    "#Write a Python script to sort (ascending and descending) a dictionary by value.\n",
    "dictionary = {'school':'seventy-fifth school','region':'Jizzakh','Current_region':'Tashkent','Workplace':'Bank'}\n",
    "ascending_dictionary = dict(sorted(dictionary.items(), key=lambda item: item[0]))\n",
    "descending_dictionary = dict(sorted(dictionary.items(), key= lambda item : item[0], reverse= True))\n",
    "print(f'This is the dictionary in ascending order by keys: \\n{ascending_dictionary} \\n And this is the dictionary in descending order by keys: \\n{descending_dictionary}')"
   ]
  },
  {
   "cell_type": "code",
   "execution_count": 51,
   "metadata": {},
   "outputs": [
    {
     "name": "stdout",
     "output_type": "stream",
     "text": [
      "{0: 10, 1: 20, 2: 30}\n"
     ]
    }
   ],
   "source": [
    "### 2. Add a Key to a Dictionary\n",
    "#Write a Python script to add a key to a dictionary.\n",
    "\n",
    "#**Sample Dictionary:**\n",
    "#python\n",
    "#{0: 10, 1: 20}\n",
    "\n",
    "#**Expected Result:**\n",
    "#python\n",
    "#{0: 10, 1: 20, 2: 30}\n",
    "\n",
    "sample_dict = {0: 10, 1: 20}\n",
    "new_key = int(input(\"Please enter the new integer key:\"))\n",
    "new_value = int(input(\"Please enter the new integer value:\"))\n",
    "sample_dict.update({new_key:new_value})\n",
    "print(sample_dict)"
   ]
  },
  {
   "cell_type": "code",
   "execution_count": 63,
   "metadata": {},
   "outputs": [
    {
     "name": "stdout",
     "output_type": "stream",
     "text": [
      "{1: 10, 2: 20, 3: 30, 4: 40, 5: 50, 6: 60}\n"
     ]
    }
   ],
   "source": [
    "### 3. Concatenate Multiple Dictionaries\n",
    "#Write a Python script to concatenate the following dictionaries to create a new one.\n",
    "#\n",
    "#**Sample Dictionaries:**\n",
    "#python\n",
    "dic1 = {1: 10, 2: 20}\n",
    "dic2 = {3: 30, 4: 40}\n",
    "dic3 = {5: 50, 6: 60}\n",
    "#\n",
    "#**Expected Result:**\n",
    "#python\n",
    "#{1: 10, 2: 20, 3: 30, 4: 40, 5: 50, 6: 60}\n",
    "dic1.update(dic2)\n",
    "dic1.update(dic3)\n",
    "print(dic1)"
   ]
  },
  {
   "cell_type": "code",
   "execution_count": 67,
   "metadata": {},
   "outputs": [
    {
     "name": "stdout",
     "output_type": "stream",
     "text": [
      "{1: 1, 2: 4, 3: 9, 4: 16, 5: 25}\n"
     ]
    }
   ],
   "source": [
    "### 4. Generate a Dictionary with Squares\n",
    "#Write a Python script to generate and print a dictionary that contains a number (between 1 and n) in the form `(x, x*x)`.\n",
    "#\n",
    "#**Sample Dictionary (n = 5):**\n",
    "#python\n",
    "#{1: 1, 2: 4, 3: 9, 4: 16, 5: 25}\n",
    "number = int(input(\"Please enter the number:\"))\n",
    "square_dict = {1: 1, 2: 4, 3: 9, 4: 16}\n",
    "square_dict.update({number:number**2})\n",
    "print(square_dict)\n",
    "\n"
   ]
  },
  {
   "cell_type": "code",
   "execution_count": 78,
   "metadata": {},
   "outputs": [
    {
     "name": "stdout",
     "output_type": "stream",
     "text": [
      "{1: 1, 2: 4, 3: 9, 4: 16, 5: 25, 6: 36, 7: 49, 8: 64, 9: 81, 10: 100, 11: 121, 12: 144, 13: 169, 14: 196, 15: 225}\n"
     ]
    }
   ],
   "source": [
    "### 5. Dictionary of Squares (1 to 15)\n",
    "#Write a Python script to print a dictionary where the keys are numbers between 1 and 15 (both included) and the values are the square of the keys.\n",
    "#\n",
    "#**Expected Output:**\n",
    "#python\n",
    "#{1: 1, 2: 4, 3: 9, 4: 16, 5: 25, 6: 36, 7: 49, 8: 64, 9: 81, 10: 100, 11: 121, 12: 144, 13: 169, 14: 196, 15: 225}\n",
    "square_bigdict = {1: 1, 2: 4, 3: 9, 4: 16, 5: 25, 6: 36, 7: 49, 8: 64, 9: 81, 10: 100, 11: 121, 12: 144, 13: 169, 14: 196, 15: 225,16:256,17:289,18:324}\n",
    "new_bigdict = dict(sorted(square_bigdict.items(), key=lambda item:item[0])[0:15])\n",
    "print(new_bigdict)"
   ]
  },
  {
   "cell_type": "code",
   "execution_count": 80,
   "metadata": {},
   "outputs": [
    {
     "name": "stdout",
     "output_type": "stream",
     "text": [
      "Set creation using curly braces - {2, 3, 5, 9, 74}\n",
      "Set creation using set() function - {2, 4, 5, 7, 9, 748, 51}\n"
     ]
    }
   ],
   "source": [
    "## Set Exercises\n",
    "\n",
    "### 1. Create a Set\n",
    "#Write a Python program to create a set.\n",
    "my_set = {2,5,74,9,3,5}\n",
    "print(f'Set creation using curly braces - {my_set}')\n",
    "new_my_set = set([51,748,9,5,4,2,5,7])\n",
    "print(f'Set creation using set() function - {new_my_set}')"
   ]
  },
  {
   "cell_type": "code",
   "execution_count": 82,
   "metadata": {},
   "outputs": [
    {
     "name": "stdout",
     "output_type": "stream",
     "text": [
      "768\n",
      "34\n",
      "2\n",
      "98\n",
      "7655\n",
      "12\n",
      "45\n",
      "789\n",
      "567\n",
      "344\n"
     ]
    }
   ],
   "source": [
    "### 2. Iterate Over a Set\n",
    "#Write a Python program to iterate over sets.\n",
    "iter_set = {12,34,45,567,768,789,98,7655,344,2}\n",
    "for i in iter_set:\n",
    "    print(i)"
   ]
  },
  {
   "cell_type": "code",
   "execution_count": 93,
   "metadata": {},
   "outputs": [
    {
     "name": "stdout",
     "output_type": "stream",
     "text": [
      "Initial set : {34, 5, 423, 456, 42, 12, 76, 765}\n",
      "The set after adding some values: {1, 34, 2, 3, 5, 4, 423, 456, 7, 42, 6, 12, 76, 765}\n"
     ]
    }
   ],
   "source": [
    "### 3. Add Member(s) to a Set\n",
    "#Write a Python program to add member(s) to a set.\n",
    "add_set = {12,34,456,765,76,5,42,423}\n",
    "print(f'Initial set : {add_set}')\n",
    "add_set.add(7)\n",
    "add_set.update([1,2,3,4,5,6,76,7])\n",
    "print(f'The set after adding some values: {add_set}')\n"
   ]
  },
  {
   "cell_type": "code",
   "execution_count": 98,
   "metadata": {},
   "outputs": [
    {
     "name": "stdout",
     "output_type": "stream",
     "text": [
      "The initial set : {34, 98, 4, 5, 6, 423, 456, 7, 42, 3, 12, 76, 765}\n",
      "The set after I removed 7 : {34, 98, 4, 5, 6, 423, 456, 42, 3, 12, 76, 765}\n",
      "The set after I removed[4,12,765]: {34, 98, 5, 6, 423, 456, 42, 3, 76}\n"
     ]
    }
   ],
   "source": [
    "### 4. Remove Item(s) from a Set\n",
    "#Write a Python program to remove item(s) from a given set.\n",
    "remove_set = {12,34,456,765,76,5,42,423,4,5,6,7,98,12,3}\n",
    "print(f'The initial set : {remove_set}')\n",
    "remove_set.remove(7)\n",
    "print(f'The set after I removed 7 : {remove_set}')\n",
    "for i in [4,12,765]:\n",
    "    remove_set.remove(i)\n",
    "print(f'The set after I removed[4,12,765]: {remove_set}')"
   ]
  },
  {
   "cell_type": "code",
   "execution_count": 106,
   "metadata": {},
   "outputs": [
    {
     "name": "stdout",
     "output_type": "stream",
     "text": [
      "The initial set is this: {34, 98, 4, 5, 6, 423, 456, 7, 42, 3, 12, 76, 765}\n",
      "2 is not present in set\n",
      "4 is removed from set\n",
      "6 is removed from set\n",
      "7 is removed from set\n",
      "13 is not present in set\n",
      "After removing {4, 6, 7} the set is this: {34, 98, 5, 423, 456, 42, 3, 12, 76, 765}\n"
     ]
    }
   ],
   "source": [
    "### 5. Remove an Item if Present in the Set\n",
    "#Write a Python program to remove an item from a set if it is present in the set.\n",
    "rem_set = {12,34,456,765,76,5,42,423,4,5,6,7,98,12,3}\n",
    "print(f'The initial set is this: {rem_set}')\n",
    "present_set = set()\n",
    "for i in [2,4,6,7,13]:\n",
    "    if i in rem_set:\n",
    "        rem_set.remove(i)\n",
    "        print(f'{i} is removed from set')\n",
    "        present_set.add(i)\n",
    "    else:\n",
    "        print(f'{i} is not present in set')\n",
    "print(f'After removing {present_set} the set is this: {rem_set}')"
   ]
  }
 ],
 "metadata": {
  "kernelspec": {
   "display_name": "Python 3",
   "language": "python",
   "name": "python3"
  },
  "language_info": {
   "codemirror_mode": {
    "name": "ipython",
    "version": 3
   },
   "file_extension": ".py",
   "mimetype": "text/x-python",
   "name": "python",
   "nbconvert_exporter": "python",
   "pygments_lexer": "ipython3",
   "version": "3.11.9"
  }
 },
 "nbformat": 4,
 "nbformat_minor": 2
}
