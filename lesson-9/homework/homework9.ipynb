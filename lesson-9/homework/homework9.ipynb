{
 "cells": [
  {
   "cell_type": "code",
   "execution_count": null,
   "metadata": {},
   "outputs": [],
   "source": [
    "class Circle:\n",
    "    def __init__(self,radius):\n",
    "        self.radius = radius\n",
    "\n",
    "    def area(self):\n",
    "        area1 = round(2*3.14*self.radius,2)\n",
    "        print(f\"The area of the circle is {area1}\")\n",
    "circle1 = Circle(5)\n",
    "circle1.area()"
   ]
  },
  {
   "cell_type": "code",
   "execution_count": 15,
   "metadata": {},
   "outputs": [
    {
     "name": "stdout",
     "output_type": "stream",
     "text": [
      "Jack is 25 years old\n",
      "Michael is 34 years old\n"
     ]
    }
   ],
   "source": [
    "from datetime import datetime\n",
    "class Person:\n",
    "    def __init__(self,name,country,birth_year,birth_month,birth_day):\n",
    "        self.name = name\n",
    "        self.country = country\n",
    "        self.birth_date = datetime(birth_year, birth_month, birth_day)\n",
    "    def get_age(self):\n",
    "        today =  datetime.today()\n",
    "        age = today.year - self.birth_date.year - ((today.month, today.day) < (self.birth_date.month, self.birth_date.day))\n",
    "        return f\"{self.name} is {age} years old\"\n",
    "Jack = Person('Jack','USA',1999,4,3)\n",
    "Michael = Person('Michael','UK',1991,4,1)\n",
    "print(Jack.get_age())\n",
    "print(Michael.get_age())"
   ]
  },
  {
   "cell_type": "code",
   "execution_count": 43,
   "metadata": {},
   "outputs": [
    {
     "name": "stdout",
     "output_type": "stream",
     "text": [
      "7\n",
      "-1\n",
      "12\n",
      "0.75\n"
     ]
    }
   ],
   "source": [
    "class Calculator():\n",
    "    def __init__(self,b,d):\n",
    "        self.b = b\n",
    "        self.d = d\n",
    "    def add(self):\n",
    "        return self.b+self.d\n",
    "    def substract(self):\n",
    "        return self.b - self.d\n",
    "    def multiply(self):\n",
    "        return self.b * self.d\n",
    "    def divide(self):\n",
    "        return self.b/self.d\n",
    "first = Calculator(3,4)\n",
    "print(first.add())\n",
    "print(first.substract())\n",
    "print(first.multiply())\n",
    "print(first.divide())"
   ]
  },
  {
   "cell_type": "code",
   "execution_count": 6,
   "metadata": {},
   "outputs": [],
   "source": [
    "class Shape:\n",
    "    name = \"Shape\"\n",
    "    def info(self):\n",
    "        print(\"It is a shape\")\n",
    "class Circle(Shape):\n",
    "    def __init__(self,radius):\n",
    "        self.radius = radius\n",
    "\n",
    "    def area(self):\n",
    "        area1 = round(3.14*(self.radius**2),2)\n",
    "        print(f\"The area of the circle is {area1}\")\n",
    "\n",
    "    def per(self):\n",
    "        per = 2*3.14*self.radius\n",
    "        print(\"The length of the circle is {per}\")\n",
    "\n",
    "class Triangle(Shape):\n",
    "    def __init__(self,side1,side2,side3):\n",
    "        self.a = side1\n",
    "        self.b = side2\n",
    "        self.c = side3\n",
    "\n",
    "    def area(self):\n",
    "        s = (self.a + self.b + self.c)/2\n",
    "        area1 = round((s*(s-self.a)*(s-self.b)*(s-self.c))**0.5,2)\n",
    "        print(f\"The area of the circle is {area1}\")\n",
    "\n",
    "    def perimeter(self):\n",
    "        per = self.a + self.b + self.c\n",
    "        print(f\"The perimeter of the triangle is {per}\")\n",
    "\n",
    "class Square(Shape):\n",
    "    def __init__(self,side):\n",
    "        self.side = side\n",
    "\n",
    "    def area(self):\n",
    "        area1 = round(self.side**2,2)\n",
    "        print(f\"The area of the circle is {area1}\")\n",
    "    def perimeter(self):\n",
    "        per = self.side * 4\n",
    "        print(f\"The perimeter of the square is {per}\")"
   ]
  },
  {
   "cell_type": "code",
   "execution_count": 9,
   "metadata": {},
   "outputs": [
    {
     "name": "stdout",
     "output_type": "stream",
     "text": [
      "The area of the circle is 6.0\n",
      "The perimeter of the triangle is 12\n",
      "The area of the circle is 78.5\n",
      "The length of the circle is {per}\n",
      "The area of the circle is 64\n",
      "It is a shape\n"
     ]
    },
    {
     "data": {
      "text/plain": [
       "'Shape'"
      ]
     },
     "execution_count": 9,
     "metadata": {},
     "output_type": "execute_result"
    }
   ],
   "source": [
    "tri1 = Triangle(3,4,5)\n",
    "tri1.area()\n",
    "tri1.perimeter()\n",
    "cir1 = Circle(5)\n",
    "cir1.area()\n",
    "cir1.per()\n",
    "sqr1 = Square(8)\n",
    "sqr1.area()\n",
    "sqr1.perimeter\n",
    "sqr1.info()\n",
    "sqr1.name"
   ]
  },
  {
   "cell_type": "code",
   "execution_count": 7,
   "metadata": {},
   "outputs": [],
   "source": [
    "class Stack:\n",
    "    def __init__(self):\n",
    "        self.items = []\n",
    "    def push(self,item):\n",
    "        self.items.append(item)\n",
    "        return f\"{item} is added\"\n",
    "    def pop(self):\n",
    "        if not self.is_empty():\n",
    "            return f\"{self.items[-1]} will be popped\"\n",
    "            self.items.pop()\n",
    "        else:\n",
    "            return \"Stack is empty\"\n",
    "    def peek(self):\n",
    "        if not self.is_empty():\n",
    "            return self.items[-1]\n",
    "        else:\n",
    "            return \"Stack is empty\"\n",
    "    def is_empty(self):\n",
    "        return len(self.items) == 0\n",
    "    def get_size(self):\n",
    "        if not self.is_empty():\n",
    "            return len(self.items)\n",
    "        else:\n",
    "            return \"Stack is empty\""
   ]
  },
  {
   "cell_type": "code",
   "execution_count": 8,
   "metadata": {},
   "outputs": [
    {
     "name": "stdout",
     "output_type": "stream",
     "text": [
      "10 is added\n",
      "11 is added\n",
      "11\n",
      "11 will be popped\n",
      "2\n",
      "11\n"
     ]
    }
   ],
   "source": [
    "stck1 = Stack()\n",
    "print(stck1.push(10))\n",
    "print(stck1.push(11))\n",
    "print(stck1.peek())\n",
    "print(stck1.pop())\n",
    "print(stck1.get_size())\n",
    "print(stck1.peek())"
   ]
  },
  {
   "cell_type": "code",
   "execution_count": 12,
   "metadata": {},
   "outputs": [],
   "source": [
    "class Node:\n",
    "    def __init__(self,data):\n",
    "        self.data = data\n",
    "        self.next = None\n",
    "class LinkedList:\n",
    "    def __init__(self):\n",
    "        self.head = None\n",
    "    def insert_at_end(self, data):\n",
    "        new_node = Node(data)\n",
    "        if self.head is None:\n",
    "            self.head = new_node\n",
    "            return\n",
    "        temp = self.head\n",
    "        while temp.next:\n",
    "            temp = temp.next\n",
    "        temp.next = new_node\n",
    "    def insert_at_begin(self,data):\n",
    "        new_node = Node(data)\n",
    "        new_node.next = self.head\n",
    "        self.head = new_node\n",
    "    def delete_node(self,key):\n",
    "        temp = self.head\n",
    "        if temp is not None and temp.data == key:\n",
    "            self.head = temp.next\n",
    "            temp = None\n",
    "            return\n",
    "        prev  = None\n",
    "        while temp is not None and temp.data != key:\n",
    "            prev = temp\n",
    "            temp = temp.next\n",
    "        if temp is None:\n",
    "            print(\"Key not found\")\n",
    "        prev.next = temp.next\n",
    "        temp = None\n",
    "    def display(self):\n",
    "        temp = self.head\n",
    "        if temp is None:\n",
    "            print(\"The linked list is empty.\")\n",
    "            return\n",
    "        while temp:\n",
    "            print(temp.data, end=\" -> \")\n",
    "            temp = temp.next\n",
    "        print(\"None\")\n"
   ]
  },
  {
   "cell_type": "code",
   "execution_count": 15,
   "metadata": {},
   "outputs": [
    {
     "name": "stdout",
     "output_type": "stream",
     "text": [
      "5 -> 10 -> 20 -> 30 -> None\n"
     ]
    }
   ],
   "source": [
    "ll = LinkedList()\n",
    "ll.insert_at_end(10)\n",
    "ll.insert_at_end(20)\n",
    "ll.insert_at_end(30)\n",
    "ll.insert_at_begin(5)\n",
    "ll.display()"
   ]
  }
 ],
 "metadata": {
  "kernelspec": {
   "display_name": "Python 3",
   "language": "python",
   "name": "python3"
  },
  "language_info": {
   "codemirror_mode": {
    "name": "ipython",
    "version": 3
   },
   "file_extension": ".py",
   "mimetype": "text/x-python",
   "name": "python",
   "nbconvert_exporter": "python",
   "pygments_lexer": "ipython3",
   "version": "3.11.9"
  }
 },
 "nbformat": 4,
 "nbformat_minor": 2
}
