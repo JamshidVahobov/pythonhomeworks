{
 "cells": [
  {
   "cell_type": "code",
   "execution_count": null,
   "metadata": {},
   "outputs": [],
   "source": [
    "class Circle:\n",
    "    def __init__(self,radius):\n",
    "        self.radius = radius\n",
    "\n",
    "    def area(self):\n",
    "        area1 = round(2*3.14*self.radius,2)\n",
    "        print(f\"The area of the circle is {area1}\")\n",
    "circle1 = Circle(5)\n",
    "circle1.area()"
   ]
  },
  {
   "cell_type": "code",
   "execution_count": 15,
   "metadata": {},
   "outputs": [
    {
     "name": "stdout",
     "output_type": "stream",
     "text": [
      "Jack is 25 years old\n",
      "Michael is 34 years old\n"
     ]
    }
   ],
   "source": [
    "from datetime import datetime\n",
    "class Person:\n",
    "    def __init__(self,name,country,birth_year,birth_month,birth_day):\n",
    "        self.name = name\n",
    "        self.country = country\n",
    "        self.birth_date = datetime(birth_year, birth_month, birth_day)\n",
    "    def get_age(self):\n",
    "        today =  datetime.today()\n",
    "        age = today.year - self.birth_date.year - ((today.month, today.day) < (self.birth_date.month, self.birth_date.day))\n",
    "        return f\"{self.name} is {age} years old\"\n",
    "Jack = Person('Jack','USA',1999,4,3)\n",
    "Michael = Person('Michael','UK',1991,4,1)\n",
    "print(Jack.get_age())\n",
    "print(Michael.get_age())"
   ]
  },
  {
   "cell_type": "code",
   "execution_count": 43,
   "metadata": {},
   "outputs": [
    {
     "name": "stdout",
     "output_type": "stream",
     "text": [
      "7\n",
      "-1\n",
      "12\n",
      "0.75\n"
     ]
    }
   ],
   "source": [
    "class Calculator():\n",
    "    def __init__(self,b,d):\n",
    "        self.b = b\n",
    "        self.d = d\n",
    "    def add(self):\n",
    "        return self.b+self.d\n",
    "    def substract(self):\n",
    "        return self.b - self.d\n",
    "    def multiply(self):\n",
    "        return self.b * self.d\n",
    "    def divide(self):\n",
    "        return self.b/self.d\n",
    "first = Calculator(3,4)\n",
    "print(first.add())\n",
    "print(first.substract())\n",
    "print(first.multiply())\n",
    "print(first.divide())"
   ]
  },
  {
   "cell_type": "code",
   "execution_count": null,
   "metadata": {},
   "outputs": [],
   "source": [
    "\n"
   ]
  }
 ],
 "metadata": {
  "kernelspec": {
   "display_name": "base",
   "language": "python",
   "name": "python3"
  },
  "language_info": {
   "codemirror_mode": {
    "name": "ipython",
    "version": 3
   },
   "file_extension": ".py",
   "mimetype": "text/x-python",
   "name": "python",
   "nbconvert_exporter": "python",
   "pygments_lexer": "ipython3",
   "version": "3.12.4"
  }
 },
 "nbformat": 4,
 "nbformat_minor": 2
}
