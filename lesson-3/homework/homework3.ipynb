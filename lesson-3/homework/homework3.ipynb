{
 "cells": [
  {
   "cell_type": "code",
   "execution_count": 4,
   "metadata": {},
   "outputs": [
    {
     "name": "stdout",
     "output_type": "stream",
     "text": [
      "grape\n"
     ]
    }
   ],
   "source": [
    "# Homework: List and Tuple Exercises\n",
    "\n",
    "## 1. Create and Access List Elements\n",
    "#Create a list containing five different fruits and print the third fruit.\n",
    "\n",
    "fruits = ['apple','banana','grape','qiwi','apricot']\n",
    "print(fruits[2])"
   ]
  },
  {
   "cell_type": "code",
   "execution_count": 7,
   "metadata": {},
   "outputs": [
    {
     "name": "stdout",
     "output_type": "stream",
     "text": [
      "[1, 2, 3, 4, 5, 6, 7, 8, 9, 10]\n"
     ]
    }
   ],
   "source": [
    "## 2. Concatenate Two Lists\n",
    "#Create two lists of numbers and concatenate them into a single list.\n",
    "numberfirst = [1,2,3,4,5]\n",
    "numbersecond = [6,7,8,9,10]\n",
    "print(numberfirst+numbersecond)"
   ]
  },
  {
   "cell_type": "code",
   "execution_count": 14,
   "metadata": {},
   "outputs": [
    {
     "name": "stdout",
     "output_type": "stream",
     "text": [
      "[0, 19, 12]\n"
     ]
    }
   ],
   "source": [
    "## 3. Extract Elements from a List\n",
    "#Given a list of numbers, extract the first, middle, and last elements and store them in a new list.\n",
    "numberlist = [0,1,2,3,4,5,19,7,8,9,10,11,12]\n",
    "\n",
    "firstn = numberlist[0]\n",
    "middlen = numberlist[int(len(numberlist)/2)]\n",
    "lastn = numberlist[-1]\n",
    "\n",
    "newlist = []\n",
    "newlist.append(firstn)\n",
    "newlist.append(middlen)\n",
    "newlist.append(lastn)\n",
    "print(newlist)"
   ]
  },
  {
   "cell_type": "code",
   "execution_count": 25,
   "metadata": {},
   "outputs": [
    {
     "name": "stdout",
     "output_type": "stream",
     "text": [
      "['Titanic', 'Avatar', 'Avengers', 'Taken', 'John Wick']\n",
      "<class 'tuple'>\n"
     ]
    }
   ],
   "source": [
    "## 4. Convert List to Tuple\n",
    "#Create a list of your five favorite movies and convert it into a tuple.\n",
    "movieslist = [\"Titanic\",\"Avatar\",\"Avengers\",\"Taken\",\"John Wick\"]\n",
    "print(movieslist)\n",
    "movieslist_tuple = tuple(movieslist)\n",
    "print(type(movieslist_tuple))"
   ]
  },
  {
   "cell_type": "code",
   "execution_count": 29,
   "metadata": {},
   "outputs": [
    {
     "name": "stdout",
     "output_type": "stream",
     "text": [
      "Paris is in the list\n"
     ]
    }
   ],
   "source": [
    "## 5. Check Element in a List\n",
    "#Given a list of cities, check if \"Paris\" is in the list and print the result.\n",
    "cities = [\"New York\", \"London\", \"Tokyo\", \"Paris\", \"Sydney\"]\n",
    "if \"Paris\" in cities:\n",
    "    print(\"Paris is in the list\")\n",
    "else:\n",
    "    print(\"Paris is not in the list\")"
   ]
  },
  {
   "cell_type": "code",
   "execution_count": 31,
   "metadata": {},
   "outputs": [
    {
     "name": "stdout",
     "output_type": "stream",
     "text": [
      "[5, 4, 8, 63, 4, 3, 52, 585, 56, 245, 78]\n",
      "[5, 4, 8, 63, 4, 3, 52, 585, 56, 245, 78, 5, 4, 8, 63, 4, 3, 52, 585, 56, 245, 78]\n"
     ]
    }
   ],
   "source": [
    "## 6. Duplicate a List Without Using Loops\n",
    "#Create a list of numbers and duplicate it without using loops.\n",
    "numbers1 = [5,4,8,63,4,3,52,585,56,245,78]\n",
    "numbers1_dup = numbers1 * 2\n",
    "print(numbers1)\n",
    "print(numbers1_dup) "
   ]
  },
  {
   "cell_type": "code",
   "execution_count": 32,
   "metadata": {},
   "outputs": [
    {
     "name": "stdout",
     "output_type": "stream",
     "text": [
      "['New York', 'London', 'Tokyo', 'Paris', 'Sydney']\n",
      "['Sydney', 'London', 'Tokyo', 'Paris', 'New York']\n"
     ]
    }
   ],
   "source": [
    "## 7. Swap First and Last Elements of a List\n",
    "#Given a list of numbers, swap the first and last elements.\n",
    "cities = [\"New York\", \"London\", \"Tokyo\", \"Paris\", \"Sydney\"]\n",
    "firste = cities[0]\n",
    "laste = cities[-1]\n",
    "print(cities)\n",
    "cities[0] = laste\n",
    "cities[-1] = firste\n",
    "print(cities)\n"
   ]
  },
  {
   "cell_type": "code",
   "execution_count": 4,
   "metadata": {},
   "outputs": [
    {
     "name": "stdout",
     "output_type": "stream",
     "text": [
      "<class 'tuple'>\n"
     ]
    },
    {
     "data": {
      "text/plain": [
       "(2, 3, 4, 5, 6)"
      ]
     },
     "execution_count": 4,
     "metadata": {},
     "output_type": "execute_result"
    }
   ],
   "source": [
    "## 8. Slice a Tuple\n",
    "#Create a tuple of numbers from 1 to 10 and print a slice from index 3 to 7.\n",
    "tuple_num = tuple([0,1,2,3,4,5,6,7,8,9,10])\n",
    "print(type(tuple_num))\n",
    "tuple_num[2:7]\n"
   ]
  },
  {
   "cell_type": "code",
   "execution_count": 8,
   "metadata": {},
   "outputs": [
    {
     "data": {
      "text/plain": [
       "3"
      ]
     },
     "execution_count": 8,
     "metadata": {},
     "output_type": "execute_result"
    }
   ],
   "source": [
    "## 9. Count Occurrences in a List\n",
    "#Create a list of colors and count how many times \"blue\" appears in the list.\n",
    "colors = [\"red\",\"blue\",\"yellow\",\"green\",\"green\",\"yellow\",\"blue\",\"blue\",\"red\",\"orange\"]\n",
    "colors.count(\"blue\")\n"
   ]
  },
  {
   "cell_type": "code",
   "execution_count": null,
   "metadata": {},
   "outputs": [
    {
     "data": {
      "text/plain": [
       "6"
      ]
     },
     "execution_count": 11,
     "metadata": {},
     "output_type": "execute_result"
    }
   ],
   "source": [
    "## 10. Find the Index of an Element in a Tuple\n",
    "#Given a tuple of animals, find the index of \"lion\".\n",
    "animals_tuple = tuple([\"horse\",\"cow\",\"goat\",\"dog\",\"cat\",\"tiger\",\"lion\",\"snake\"])\n",
    "animals_tuple.index(\"lion\")"
   ]
  },
  {
   "cell_type": "code",
   "execution_count": 14,
   "metadata": {},
   "outputs": [
    {
     "name": "stdout",
     "output_type": "stream",
     "text": [
      "<class 'tuple'>\n",
      "(1, 2, 4, 5, 8, 2, 1, 3, 47, 6, 89, 65, 3, 2, 4, 56, 78, 2, 53, 6849, 456, 8623, 789, 456, 79, 1, 4, 56, 6, 20)\n"
     ]
    }
   ],
   "source": [
    "## 11. Merge Two Tuples\n",
    "#Create two tuples of numbers and merge them into a single tuple.\n",
    "num_1 = tuple([1,2,4,5,8,2,1,3,47,6,89,65,3,2])\n",
    "num_2 = tuple([4,56,78,2,53,6849,456,8623,789,456,79,1,4,56,6,20])\n",
    "merged_num = tuple(num_1+num_2)\n",
    "print(merged_num)"
   ]
  },
  {
   "cell_type": "code",
   "execution_count": 17,
   "metadata": {},
   "outputs": [
    {
     "name": "stdout",
     "output_type": "stream",
     "text": [
      "11\n",
      "11\n"
     ]
    }
   ],
   "source": [
    "## 12. Find the Length of a List and Tuple\n",
    "#Given a list and a tuple, find and print their lengths.\n",
    "list_1 = [8,9,2,7,2,789,456,132,14,28,39]\n",
    "tuple_1 = tuple([8,9,2,7,2,789,456,132,14,28,39])\n",
    "print(len(list_1))\n",
    "print(len(tuple_1))"
   ]
  },
  {
   "cell_type": "code",
   "execution_count": null,
   "metadata": {},
   "outputs": [
    {
     "name": "stdout",
     "output_type": "stream",
     "text": [
      "<class 'tuple'>\n",
      "<class 'list'>\n",
      "[978, 85, 651, 2545, 923]\n",
      "(978, 85, 651, 2545, 923)\n"
     ]
    }
   ],
   "source": [
    "## 13. Convert Tuple to List\n",
    "#Create a tuple of five numbers and convert it into a list.\n",
    "tuple_list = tuple([978,85,651,2545,923])\n",
    "numbers_tuple = list(tuple_list)"
   ]
  },
  {
   "cell_type": "code",
   "execution_count": 21,
   "metadata": {},
   "outputs": [
    {
     "name": "stdout",
     "output_type": "stream",
     "text": [
      "852\n",
      "52\n"
     ]
    }
   ],
   "source": [
    "## 14. Find Maximum and Minimum in a Tuple\n",
    "#Given a tuple of numbers, find and print the maximum and minimum values.\n",
    "tuple_numbers = tuple([852,154,312,789,52,123])\n",
    "print(max(tuple_numbers))\n",
    "print(min(tuple_numbers))"
   ]
  },
  {
   "cell_type": "code",
   "execution_count": 26,
   "metadata": {},
   "outputs": [
    {
     "data": {
      "text/plain": [
       "('computer', 'school', 'house', 'car')"
      ]
     },
     "execution_count": 26,
     "metadata": {},
     "output_type": "execute_result"
    }
   ],
   "source": [
    "## 15. Reverse a Tuple\n",
    "#Create a tuple of words and print it in reverse order.\n",
    "word_tuple = tuple([\"car\",\"house\",\"school\",\"computer\"])\n",
    "word_tuple[::-1]"
   ]
  }
 ],
 "metadata": {
  "kernelspec": {
   "display_name": "Python 3",
   "language": "python",
   "name": "python3"
  },
  "language_info": {
   "codemirror_mode": {
    "name": "ipython",
    "version": 3
   },
   "file_extension": ".py",
   "mimetype": "text/x-python",
   "name": "python",
   "nbconvert_exporter": "python",
   "pygments_lexer": "ipython3",
   "version": "3.11.9"
  }
 },
 "nbformat": 4,
 "nbformat_minor": 2
}
