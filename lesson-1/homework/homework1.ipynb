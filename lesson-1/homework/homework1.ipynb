{
 "cells": [
  {
   "cell_type": "code",
   "execution_count": 3,
   "metadata": {},
   "outputs": [
    {
     "name": "stdout",
     "output_type": "stream",
     "text": [
      "Perimeter is 20 and area is 25\n"
     ]
    }
   ],
   "source": [
    "#Given a side of square. Find its perimeter and area.\n",
    "a = 5\n",
    "perimeter = 4*a\n",
    "area = a*a\n",
    "print(f'Perimeter is {perimeter} and area is {area}')"
   ]
  },
  {
   "cell_type": "code",
   "execution_count": 4,
   "metadata": {},
   "outputs": [
    {
     "name": "stdout",
     "output_type": "stream",
     "text": [
      "The length of the circle is 31.4159\n"
     ]
    }
   ],
   "source": [
    "#Given diameter of circle. Find its length.\n",
    "diameter = 10\n",
    "length = 3.14159*diameter\n",
    "print(f'The length of the circle is {length}')"
   ]
  },
  {
   "cell_type": "code",
   "execution_count": 6,
   "metadata": {},
   "outputs": [
    {
     "name": "stdout",
     "output_type": "stream",
     "text": [
      "The mean is equal to 6.5\n"
     ]
    }
   ],
   "source": [
    "#Given two numbers a and b. Find their mean.\n",
    "a = 5\n",
    "b = 8\n",
    "mean = (a+b)/2\n",
    "print(f'The mean is equal to {mean}')"
   ]
  },
  {
   "cell_type": "code",
   "execution_count": null,
   "metadata": {},
   "outputs": [],
   "source": [
    "#Given two numbers a and b. Find their sum, product and square of each number.\n",
    "a = 5\n",
    "b = 6\n",
    "sum = a + b\n",
    "product = a * b\n",
    "square_a = a ** 2\n",
    "square_b = b ** 2\n",
    "print(f\"The sum is equal to {sum}, the product is equal to {product}, the square_a is equal to {square_a} and the square_b is equal to {square_b}\")"
   ]
  }
 ],
 "metadata": {
  "kernelspec": {
   "display_name": "Python 3",
   "language": "python",
   "name": "python3"
  },
  "language_info": {
   "codemirror_mode": {
    "name": "ipython",
    "version": 3
   },
   "file_extension": ".py",
   "mimetype": "text/x-python",
   "name": "python",
   "nbconvert_exporter": "python",
   "pygments_lexer": "ipython3",
   "version": "3.11.9"
  }
 },
 "nbformat": 4,
 "nbformat_minor": 2
}
