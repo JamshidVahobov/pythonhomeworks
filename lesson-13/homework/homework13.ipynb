{
 "cells": [
  {
   "cell_type": "code",
   "execution_count": 2,
   "id": "c84c9a21",
   "metadata": {},
   "outputs": [
    {
     "name": "stdout",
     "output_type": "stream",
     "text": [
      "Age: 35 years, 0 months, 6 days\n"
     ]
    }
   ],
   "source": [
    "from datetime import datetime\n",
    "\n",
    "def age_calculator(b_year, b_month, b_day):\n",
    "    b_date = datetime(year=b_year, month=b_month, day=b_day)\n",
    "    today = datetime.now()\n",
    "\n",
    "    year_dif = today.year - b_date.year\n",
    "    month_dif = today.month - b_date.month\n",
    "    day_dif = today.day - b_date.day\n",
    "\n",
    "    if day_dif < 0:\n",
    "        month_dif -= 1\n",
    "        prev_month = (today.month - 1) if today.month > 1 else 12\n",
    "        prev_month_days = (datetime(today.year, prev_month, 1) - datetime(today.year, prev_month-1, 1)).days\n",
    "        day_dif += prev_month_days\n",
    "\n",
    "    if month_dif < 0:\n",
    "        year_dif -= 1\n",
    "        month_dif += 12\n",
    "\n",
    "    print(f\"Age: {year_dif} years, {month_dif} months, {day_dif} days\")\n",
    "\n",
    "age_calculator(1990, 4, 15)\n"
   ]
  },
  {
   "cell_type": "code",
   "execution_count": 39,
   "id": "e0e40762",
   "metadata": {},
   "outputs": [
    {
     "name": "stdout",
     "output_type": "stream",
     "text": [
      "Until your next birthday: 364 days\n"
     ]
    }
   ],
   "source": [
    "from datetime import datetime\n",
    "\n",
    "def next_bdate_calculator(b_year, b_month, b_day):\n",
    "    today = datetime.now()\n",
    "    next_bdate = datetime(year=today.year, month=b_month, day=b_day)\n",
    "    \n",
    "    if next_bdate < today:\n",
    "        next_bdate = datetime(year=today.year + 1, month=b_month, day=b_day)\n",
    "    \n",
    "    day_dif = (next_bdate - today).days\n",
    "    \n",
    "    print(f\"Until your next birthday: {day_dif} days\")\n",
    "\n",
    "next_bdate_calculator(1990, 4, 16)"
   ]
  },
  {
   "cell_type": "code",
   "execution_count": 46,
   "id": "4667975d",
   "metadata": {},
   "outputs": [
    {
     "name": "stdout",
     "output_type": "stream",
     "text": [
      "The meeting will start at 2025-04-16 23:00:00 and will last 1 hours and 15 minutes. Meeting will end at 2025-04-17 00:15:00\n"
     ]
    }
   ],
   "source": [
    "def meeting_scheduler(s_year,s_month,s_day,s_hour,s_minute,m_hour,m_minute):\n",
    "    s_date = datetime(s_year,s_month,s_day,s_hour,s_minute)\n",
    "    f_hour = s_hour+m_hour\n",
    "    f_minute = s_minute + m_minute\n",
    "    \n",
    "    if f_minute >= 60:\n",
    "        f_minute = s_minute+m_minute-60\n",
    "        f_hour+1\n",
    "    \n",
    "    if f_hour >= 24:\n",
    "        f_hour -= 24\n",
    "        s_day += 1\n",
    "\n",
    "    f_date = datetime(s_year,s_month,s_day,f_hour,f_minute)\n",
    "    print(f\"The meeting will start at {s_date} and will last {m_hour} hours and {m_minute} minutes. Meeting will end at {f_date}\")\n",
    "\n",
    "meeting_scheduler(2025,4,16,23,00,1,15)"
   ]
  },
  {
   "cell_type": "code",
   "execution_count": 2,
   "id": "af6946c4",
   "metadata": {},
   "outputs": [
    {
     "name": "stdout",
     "output_type": "stream",
     "text": [
      "Converted time: 2023-10-01 17:30:00 BST+0100\n"
     ]
    }
   ],
   "source": [
    "from datetime import datetime\n",
    "import pytz\n",
    "\n",
    "def convert_timezone(year, month, day, hour, minute, timezone, timezone2):\n",
    "    original_time = datetime(year, month, day, hour, minute)\n",
    "    original_tz = pytz.timezone(timezone)\n",
    "    localized_time = original_tz.localize(original_time)\n",
    "    target_tz = pytz.timezone(timezone2)\n",
    "    converted_time = localized_time.astimezone(target_tz)\n",
    "    print(\"Converted time:\", converted_time.strftime('%Y-%m-%d %H:%M:%S %Z%z'))\n",
    "convert_timezone(2023, 10, 1, 12, 30, 'America/New_York', 'Europe/London')"
   ]
  },
  {
   "cell_type": "code",
   "execution_count": 5,
   "id": "b745cacc",
   "metadata": {},
   "outputs": [
    {
     "name": "stdout",
     "output_type": "stream",
     "text": [
      "Countdown finished!462150 remaining\n"
     ]
    }
   ],
   "source": [
    "from datetime import datetime\n",
    "import time\n",
    "import sys\n",
    "def countdown_timer(year, month, day, hour, minute):\n",
    "        while True:\n",
    "            current_time = datetime.now()\n",
    "            target_time = datetime(year, month, day, hour, minute)\n",
    "            countdown = target_time - current_time\n",
    "            if countdown.total_seconds() < 0:\n",
    "                print(\"Countdown finished!\")\n",
    "                break\n",
    "            else:\n",
    "                sys.stdout.write(f\"Countdown: {countdown} remaining\\r\")\n",
    "                sys.stdout.flush()\n",
    "                time.sleep(1)\n",
    "countdown_timer(2025, 4, 22, 14, 46)"
   ]
  },
  {
   "cell_type": "code",
   "execution_count": 6,
   "id": "8ed9b693",
   "metadata": {},
   "outputs": [
    {
     "name": "stdout",
     "output_type": "stream",
     "text": [
      "jamshidvahobov7@gmail.com is a valid email address (basic check).\n",
      "jamshidvahobov7@gmail.com is a valid email address (advanced check).\n"
     ]
    }
   ],
   "source": [
    "def basic_check(email: str):\n",
    "    email = email.strip()\n",
    "    if \"@\" not in email or \".\" not in email:\n",
    "        return False    \n",
    "    local_part, domain = email.split(\"@\")\n",
    "    if len(local_part) > 64 or len(domain) > 255:\n",
    "        return False\n",
    "    if len(domain.split(\".\")) < 2:\n",
    "        return False\n",
    "    if any(len(part) == 0 for part in domain.split(\".\")):\n",
    "        return False\n",
    "    if any(char in local_part for char in \" !#$%&'*+/=?^_`{|}~\"):\n",
    "        return False\n",
    "    if any(char in domain for char in \" !#$%&'*+/=?^_`{|}~\"):\n",
    "        return False\n",
    "    return True\n",
    "def advanced_check(email: str):\n",
    "    import re\n",
    "    email = email.strip()\n",
    "    if not basic_check(email):\n",
    "        return False\n",
    "    pattern = r\"^[a-zA-Z0-9._%+-]+@[a-zA-Z0-9.-]+\\.[a-zA-Z]{2,}$\"\n",
    "    if not re.match(pattern, email):\n",
    "        return False\n",
    "    return True\n",
    "def validate_email(email: str):\n",
    "    if basic_check(email):\n",
    "        print(f\"{email} is a valid email address (basic check).\")\n",
    "    else:\n",
    "        print(f\"{email} is not a valid email address (basic check).\")\n",
    "    if advanced_check(email):\n",
    "        print(f\"{email} is a valid email address (advanced check).\")\n",
    "    else:\n",
    "        print(f\"{email} is not a valid email address (advanced check).\")\n",
    "validate_email(\"jamshidvahobov7@gmail.com\")"
   ]
  },
  {
   "cell_type": "code",
   "execution_count": 7,
   "id": "b450f0ca",
   "metadata": {},
   "outputs": [
    {
     "data": {
      "text/plain": [
       "'(123) 456-7890'"
      ]
     },
     "execution_count": 7,
     "metadata": {},
     "output_type": "execute_result"
    }
   ],
   "source": [
    "def phone_number_formatter(number: str):\n",
    "    number = number.replace(\" \", \"\").replace(\"-\", \"\").replace(\"(\", \"\").replace(\")\", \"\")\n",
    "    if len(number) == 10:\n",
    "        return f\"({number[:3]}) {number[3:6]}-{number[6:]}\"\n",
    "    elif len(number) == 11 and number.startswith(\"1\"):\n",
    "        return f\"+1 ({number[1:4]}) {number[4:7]}-{number[7:]}\"\n",
    "    else:\n",
    "        return \"Invalid phone number format\"\n",
    "phone_number_formatter(\"1234567890\")"
   ]
  },
  {
   "cell_type": "code",
   "execution_count": 8,
   "id": "7ede5a5a",
   "metadata": {},
   "outputs": [
    {
     "data": {
      "text/plain": [
       "True"
      ]
     },
     "execution_count": 8,
     "metadata": {},
     "output_type": "execute_result"
    }
   ],
   "source": [
    "import string\n",
    "alphabet = list(string.ascii_lowercase)\n",
    "alphabet_upper = list(string.ascii_uppercase)\n",
    "number = ['1','2','3','4','5','6','7','8','9','0']\n",
    "def password_strength_checker(password: str):\n",
    "    if len(password) <8:\n",
    "        return False\n",
    "    if not any(char in password for char in alphabet):\n",
    "        return False\n",
    "    if not any(char in password for char in alphabet_upper):\n",
    "        return False\n",
    "    if not any(char in password for char in number):\n",
    "        return False\n",
    "    if not any(char in password for char in \" !#$%&'*+/=?^_`{|}~@\"):\n",
    "        return False \n",
    "    return True\n",
    "password_strength_checker(\"V@h0b0v0\")"
   ]
  },
  {
   "cell_type": "code",
   "execution_count": 9,
   "id": "c0987d58",
   "metadata": {},
   "outputs": [
    {
     "name": "stdout",
     "output_type": "stream",
     "text": [
      "\n",
      "Found the 398 occurance(s) of alice:\n",
      "All occurances of the alice: \n",
      "['alice', 'alice', 'alice', 'alice', 'alice', 'alice', 'alice', 'alice', 'alice', 'alice', 'alice', 'alice', 'alice', 'alice', 'alice', 'alice', 'alice', 'alice', 'alice', 'alice', 'alice', 'alice', 'alice', 'alice', 'alice', 'alice', 'alice', 'alice', 'alice', 'alice', 'alice', 'alice', 'alice', 'alice', 'alice', 'alice', 'alice', 'alice', 'alice', 'alice', 'alice', 'alice', 'alice', 'alice', 'alice', 'alice', 'alice', 'alice', 'alice', 'alice', 'alice', 'alice', 'alice', 'alice', 'alice', 'alice', 'alice', 'alice', 'alice', 'alice', 'alice', 'alice', 'alice', 'alice', 'alice', 'alice', 'alice', 'alice', 'alice', 'alice', 'alice', 'alice', 'alice', 'alice', 'alice', 'alice', 'alice', 'alice', 'alice', 'alice', 'alice', 'alice', 'alice', 'alice', 'alice', 'alice', 'alice', 'alice', 'alice', 'alice', 'alice', 'alice', 'alice', 'alice', 'alice', 'alice', 'alice', 'alice', 'alice', 'alice', 'alice', 'alice', 'alice', 'alice', 'alice', 'alice', 'alice', 'alice', 'alice', 'alice', 'alice', 'alice', 'alice', 'alice', 'alice', 'alice', 'alice', 'alice', 'alice', 'alice', 'alice', 'alice', 'alice', 'alice', 'alice', 'alice', 'alice', 'alice', 'alice', 'alice', 'alice', 'alice', 'alice', 'alice', 'alice', 'alice', 'alice', 'alice', 'alice', 'alice', 'alice', 'alice', 'alice', 'alice', 'alice', 'alice', 'alice', 'alice', 'alice', 'alice', 'alice', 'alice', 'alice', 'alice', 'alice', 'alice', 'alice', 'alice', 'alice', 'alice', 'alice', 'alice', 'alice', 'alice', 'alice', 'alice', 'alice', 'alice', 'alice', 'alice', 'alice', 'alice', 'alice', 'alice', 'alice', 'alice', 'alice', 'alice', 'alice', 'alice', 'alice', 'alice', 'alice', 'alice', 'alice', 'alice', 'alice', 'alice', 'alice', 'alice', 'alice', 'alice', 'alice', 'alice', 'alice', 'alice', 'alice', 'alice', 'alice', 'alice', 'alice', 'alice', 'alice', 'alice', 'alice', 'alice', 'alice', 'alice', 'alice', 'alice', 'alice', 'alice', 'alice', 'alice', 'alice', 'alice', 'alice', 'alice', 'alice', 'alice', 'alice', 'alice', 'alice', 'alice', 'alice', 'alice', 'alice', 'alice', 'alice', 'alice', 'alice', 'alice', 'alice', 'alice', 'alice', 'alice', 'alice', 'alice', 'alice', 'alice', 'alice', 'alice', 'alice', 'alice', 'alice', 'alice', 'alice', 'alice', 'alice', 'alice', 'alice', 'alice', 'alice', 'alice', 'alice', 'alice', 'alice', 'alice', 'alice', 'alice', 'alice', 'alice', 'alice', 'alice', 'alice', 'alice', 'alice', 'alice', 'alice', 'alice', 'alice', 'alice', 'alice', 'alice', 'alice', 'alice', 'alice', 'alice', 'alice', 'alice', 'alice', 'alice', 'alice', 'alice', 'alice', 'alice', 'alice', 'alice', 'alice', 'alice', 'alice', 'alice', 'alice', 'alice', 'alice', 'alice', 'alice', 'alice', 'alice', 'alice', 'alice', 'alice', 'alice', 'alice', 'alice', 'alice', 'alice', 'alice', 'alice', 'alice', 'alice', 'alice', 'alice', 'alice', 'alice', 'alice', 'alice', 'alice', 'alice', 'alice', 'alice', 'alice', 'alice', 'alice', 'alice', 'alice', 'alice', 'alice', 'alice', 'alice', 'alice', 'alice', 'alice', 'alice', 'alice', 'alice', 'alice', 'alice', 'alice', 'alice', 'alice', 'alice', 'alice', 'alice', 'alice', 'alice', 'alice', 'alice', 'alice', 'alice', 'alice', 'alice', 'alice', 'alice', 'alice', 'alice', 'alice', 'alice', 'alice', 'alice', 'alice', 'alice', 'alice', 'alice', 'alice', 'alice', 'alice', 'alice', 'alice', 'alice', 'alice', 'alice', 'alice', 'alice', 'alice', 'alice', 'alice', 'alice', 'alice', 'alice', 'alice', 'alice', 'alice', 'alice', 'alice', 'alice', 'alice', 'alice', 'alice', 'alice', 'alice', 'alice', 'alice', 'alice', 'alice', 'alice', 'alice', 'alice']\n"
     ]
    }
   ],
   "source": [
    "import threading\n",
    "import re\n",
    "from collections import defaultdict\n",
    "\n",
    "lock = threading.Lock()\n",
    "word_counts = defaultdict(lambda: {'count': 0, 'words':[]})\n",
    "file_path = 'alice_in_wonderland.txt'\n",
    "\n",
    "with open(file_path, 'r') as file:\n",
    "    lines = file.readlines()\n",
    "    total_lines = len(lines)\n",
    "    dif = (total_lines + 1) // 4\n",
    "\n",
    "    ranges = [\n",
    "        range(0, dif),\n",
    "        range(dif, 2 * dif),\n",
    "        range(2 * dif, 3 * dif),\n",
    "        range(3 * dif, total_lines)\n",
    "    ]\n",
    "\n",
    "def count_word(line):\n",
    "    words = re.findall(r'\\b\\w+\\b', line.lower())\n",
    "    with lock:\n",
    "        for word in words:\n",
    "            word_counts[word]['count'] += 1\n",
    "            word_counts[word]['words'].append(word)\n",
    "\n",
    "def count_words_in_range(line_range):\n",
    "    for i in line_range:\n",
    "        count_word(lines[i])\n",
    "\n",
    "threads = []\n",
    "for r in ranges:\n",
    "    t = threading.Thread(target=count_words_in_range, args=(r,))\n",
    "    t.start()\n",
    "    threads.append(t)\n",
    "\n",
    "for t in threads:\n",
    "    t.join()\n",
    "\n",
    "\n",
    "search_word = input(\"Enter a word to search: \").lower()\n",
    "if search_word in word_counts:\n",
    "    result = word_counts[search_word]\n",
    "    print(f\"\\nFound the {result['count']} occurance(s) of {search_word}:\")\n",
    "    print(f\"All occurances of the {search_word}: \\n{result['words']}\")\n",
    "else:\n",
    "    print(f\"{search_word} is not in the text\")"
   ]
  },
  {
   "cell_type": "code",
   "execution_count": 10,
   "id": "68dcdeab",
   "metadata": {},
   "outputs": [
    {
     "name": "stdout",
     "output_type": "stream",
     "text": [
      "\n",
      "No dates found\n"
     ]
    }
   ],
   "source": [
    "import re\n",
    "date_patterns = [\n",
    "r'\\b\\d{1,2}[/-]\\d{1,2}[/-]\\d{2,4}\\b',\n",
    "r'\\b\\d{4}[/-]\\d{1,2}[/-]\\d{1,2}\\b',\n",
    "r'\\b(?:Jan|Feb|Mar|Apr|May|Jun|Jul|Aug|Sep|Oct|Nov|Dec)[a-z]*\\.?\\s+\\d{1,2},?\\s+\\d{4}\\b']\n",
    "combined_pattern = '|'.join(date_patterns)\n",
    "user_input = input(\"Enter a text containing date: \\n\")\n",
    "matches = re.findall(combined_pattern,user_input,re.IGNORECASE)\n",
    "\n",
    "if matches:\n",
    "    print(f\"\\n Dates found in the text:\")\n",
    "    for date in matches:\n",
    "        print(\"-\",date)\n",
    "else:\n",
    "    print(\"\\nNo dates found\")"
   ]
  }
 ],
 "metadata": {
  "kernelspec": {
   "display_name": "base",
   "language": "python",
   "name": "python3"
  },
  "language_info": {
   "codemirror_mode": {
    "name": "ipython",
    "version": 3
   },
   "file_extension": ".py",
   "mimetype": "text/x-python",
   "name": "python",
   "nbconvert_exporter": "python",
   "pygments_lexer": "ipython3",
   "version": "3.12.4"
  }
 },
 "nbformat": 4,
 "nbformat_minor": 5
}
