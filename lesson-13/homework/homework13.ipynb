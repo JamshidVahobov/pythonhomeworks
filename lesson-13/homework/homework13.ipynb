{
 "cells": [
  {
   "cell_type": "code",
   "execution_count": null,
   "id": "f6100ab2",
   "metadata": {},
   "outputs": [
    {
     "name": "stdout",
     "output_type": "stream",
     "text": [
      "Converted time: 2023-10-01 17:30:00 BST+0100\n"
     ]
    }
   ],
   "source": [
    "from datetime import datetime\n",
    "import pytz\n",
    "\n",
    "def convert_timezone(year, month, day, hour, minute, timezone, timezone2):\n",
    "    original_time = datetime(year, month, day, hour, minute)\n",
    "    original_tz = pytz.timezone(timezone)\n",
    "    localized_time = original_tz.localize(original_time)\n",
    "    target_tz = pytz.timezone(timezone2)\n",
    "    converted_time = localized_time.astimezone(target_tz)\n",
    "    print(\"Converted time:\", converted_time.strftime('%Y-%m-%d %H:%M:%S %Z%z'))\n",
    "convert_timezone(2023, 10, 1, 12, 30, 'America/New_York', 'Europe/London')"
   ]
  },
  {
   "cell_type": "code",
   "execution_count": 14,
   "id": "8dfb013c",
   "metadata": {},
   "outputs": [],
   "source": [
    "from datetime import datetime\n",
    "import time\n",
    "import sys\n",
    "def countdown_timer(year, month, day, hour, minute):\n",
    "        while True:\n",
    "            current_time = datetime.now()\n",
    "            target_time = datetime(year, month, day, hour, minute)\n",
    "            countdown = target_time - current_time\n",
    "            if countdown.total_seconds() < 0:\n",
    "                print(\"Countdown finished!\")\n",
    "                break\n",
    "            else:\n",
    "                sys.stdout.write(f\"Countdown: {countdown} remaining\\r\")\n",
    "                sys.stdout.flush()\n",
    "                time.sleep(1)"
   ]
  },
  {
   "cell_type": "code",
   "execution_count": 15,
   "id": "f45ceb4d",
   "metadata": {},
   "outputs": [
    {
     "name": "stdout",
     "output_type": "stream",
     "text": [
      "Countdown finished!457712 remaining\n"
     ]
    }
   ],
   "source": [
    "countdown_timer(2025, 4, 20, 14, 1)"
   ]
  },
  {
   "cell_type": "code",
   "execution_count": 17,
   "id": "611c95d1",
   "metadata": {},
   "outputs": [
    {
     "name": "stdout",
     "output_type": "stream",
     "text": [
      "jamshidvahobov7@gmail.com is a valid email address (basic check).\n",
      "jamshidvahobov7@gmail.com is a valid email address (advanced check).\n"
     ]
    }
   ],
   "source": [
    "def basic_check(email: str):\n",
    "    email = email.strip()\n",
    "    if \"@\" not in email or \".\" not in email:\n",
    "        return False    \n",
    "    local_part, domain = email.split(\"@\")\n",
    "    if len(local_part) > 64 or len(domain) > 255:\n",
    "        return False\n",
    "    if len(domain.split(\".\")) < 2:\n",
    "        return False\n",
    "    if any(len(part) == 0 for part in domain.split(\".\")):\n",
    "        return False\n",
    "    if any(char in local_part for char in \" !#$%&'*+/=?^_`{|}~\"):\n",
    "        return False\n",
    "    if any(char in domain for char in \" !#$%&'*+/=?^_`{|}~\"):\n",
    "        return False\n",
    "    return True\n",
    "def advanced_check(email: str):\n",
    "    import re\n",
    "    email = email.strip()\n",
    "    if not basic_check(email):\n",
    "        return False\n",
    "    pattern = r\"^[a-zA-Z0-9._%+-]+@[a-zA-Z0-9.-]+\\.[a-zA-Z]{2,}$\"\n",
    "    if not re.match(pattern, email):\n",
    "        return False\n",
    "    return True\n",
    "def validate_email(email: str):\n",
    "    if basic_check(email):\n",
    "        print(f\"{email} is a valid email address (basic check).\")\n",
    "    else:\n",
    "        print(f\"{email} is not a valid email address (basic check).\")\n",
    "    if advanced_check(email):\n",
    "        print(f\"{email} is a valid email address (advanced check).\")\n",
    "    else:\n",
    "        print(f\"{email} is not a valid email address (advanced check).\")\n",
    "validate_email(\"jamshidvahobov7@gmail.com\")"
   ]
  },
  {
   "cell_type": "code",
   "execution_count": null,
   "id": "1920f4c1",
   "metadata": {},
   "outputs": [],
   "source": [
    "def phone_number_formatter(number: str):\n",
    "    number = number.replace(\" \", \"\").replace(\"-\", \"\").replace(\"(\", \"\").replace(\")\", \"\")\n",
    "    if len(number) == 10:\n",
    "        return f\"({number[:3]}) {number[3:6]}-{number[6:]}\"\n",
    "    elif len(number) == 11 and number.startswith(\"1\"):\n",
    "        return f\"+1 ({number[1:4]}) {number[4:7]}-{number[7:]}\"\n",
    "    else:\n",
    "        return \"Invalid phone number format\""
   ]
  },
  {
   "cell_type": "code",
   "execution_count": 21,
   "id": "32170e8d",
   "metadata": {},
   "outputs": [
    {
     "data": {
      "text/plain": [
       "'(123) 456-7890'"
      ]
     },
     "execution_count": 21,
     "metadata": {},
     "output_type": "execute_result"
    }
   ],
   "source": [
    "phone_number_formatter(\"1234567890\")"
   ]
  },
  {
   "cell_type": "code",
   "execution_count": 36,
   "id": "04210315",
   "metadata": {},
   "outputs": [],
   "source": [
    "import string\n",
    "alphabet = list(string.ascii_lowercase)\n",
    "alphabet_upper = list(string.ascii_uppercase)\n",
    "number = ['1','2','3','4','5','6','7','8','9','0']\n",
    "def password_strength_checker(password: str):\n",
    "    if len(password) <8:\n",
    "        return False\n",
    "    if not any(char in password for char in alphabet):\n",
    "        return False\n",
    "    if not any(char in password for char in alphabet_upper):\n",
    "        return False\n",
    "    if not any(char in password for char in number):\n",
    "        return False\n",
    "    if not any(char in password for char in \" !#$%&'*+/=?^_`{|}~@\"):\n",
    "        return False \n",
    "    return True"
   ]
  },
  {
   "cell_type": "code",
   "execution_count": 40,
   "id": "32493278",
   "metadata": {},
   "outputs": [
    {
     "data": {
      "text/plain": [
       "True"
      ]
     },
     "execution_count": 40,
     "metadata": {},
     "output_type": "execute_result"
    }
   ],
   "source": [
    "password_strength_checker(\"V@h0b0v0\")"
   ]
  },
  {
   "cell_type": "code",
   "execution_count": 56,
   "id": "a5736d71",
   "metadata": {},
   "outputs": [],
   "source": [
    "import threading\n",
    "import re\n",
    "from collections import defaultdict\n",
    "\n",
    "lock = threading.Lock()\n",
    "word_counts = defaultdict(lambda: {'count': 0, 'words':[]})\n",
    "file_path = 'alice_in_wonderland.txt'\n",
    "\n",
    "with open(file_path, 'r') as file:\n",
    "    lines = file.readlines()\n",
    "    total_lines = len(lines)\n",
    "    dif = (total_lines + 1) // 4\n",
    "\n",
    "    ranges = [\n",
    "        range(0, dif),\n",
    "        range(dif, 2 * dif),\n",
    "        range(2 * dif, 3 * dif),\n",
    "        range(3 * dif, total_lines)\n",
    "    ]\n",
    "\n",
    "def count_word(line):\n",
    "    words = re.findall(r'\\b\\w+\\b', line.lower())\n",
    "    with lock:\n",
    "        for word in words:\n",
    "            word_counts[word]['count'] += 1\n",
    "            word_counts[word]['words'].append(word)\n",
    "\n",
    "def count_words_in_range(line_range):\n",
    "    for i in line_range:\n",
    "        count_word(lines[i])\n",
    "\n",
    "threads = []\n",
    "for r in ranges:\n",
    "    t = threading.Thread(target=count_words_in_range, args=(r,))\n",
    "    t.start()\n",
    "    threads.append(t)\n",
    "\n",
    "for t in threads:\n",
    "    t.join()"
   ]
  },
  {
   "cell_type": "code",
   "execution_count": 58,
   "id": "ad35e38f",
   "metadata": {},
   "outputs": [
    {
     "name": "stdout",
     "output_type": "stream",
     "text": [
      "\n",
      "Found the 8 occurance(s) of tree:\n",
      "All occurances of the tree: \n",
      "['tree', 'tree', 'tree', 'tree', 'tree', 'tree', 'tree', 'tree']\n"
     ]
    }
   ],
   "source": [
    "search_word = input(\"Enter a word to search: \").lower()\n",
    "if search_word in word_counts:\n",
    "    result = word_counts[search_word]\n",
    "    print(f\"\\nFound the {result['count']} occurance(s) of {search_word}:\")\n",
    "    print(f\"All occurances of the {search_word}: \\n{result['words']}\")\n",
    "else:\n",
    "    print(f\"{search_word} is not in the text\")"
   ]
  },
  {
   "cell_type": "code",
   "execution_count": 62,
   "id": "972afdea",
   "metadata": {},
   "outputs": [
    {
     "name": "stdout",
     "output_type": "stream",
     "text": [
      "\n",
      " Dates found in the text:\n",
      "- 12/05/2024\n",
      "- April 5, 2024\n",
      "- 2024-05-20\n"
     ]
    }
   ],
   "source": [
    "import re\n",
    "date_patterns = [\n",
    "r'\\b\\d{1,2}[/-]\\d{1,2}[/-]\\d{2,4}\\b',\n",
    "r'\\b\\d{4}[/-]\\d{1,2}[/-]\\d{1,2}\\b',\n",
    "r'\\b(?:Jan|Feb|Mar|Apr|May|Jun|Jul|Aug|Sep|Oct|Nov|Dec)[a-z]*\\.?\\s+\\d{1,2},?\\s+\\d{4}\\b']\n",
    "combined_pattern = '|'.join(date_patterns)\n",
    "user_input = input(\"Enter a text containing date: \\n\")\n",
    "matches = re.findall(combined_pattern,user_input,re.IGNORECASE)\n",
    "\n",
    "if matches:\n",
    "    print(f\"\\n Dates found in the text:\")\n",
    "    for date in matches:\n",
    "        print(\"-\",date)\n",
    "else:\n",
    "    print(\"\\nNo dates found\")"
   ]
  }
 ],
 "metadata": {
  "kernelspec": {
   "display_name": "Python 3",
   "language": "python",
   "name": "python3"
  },
  "language_info": {
   "codemirror_mode": {
    "name": "ipython",
    "version": 3
   },
   "file_extension": ".py",
   "mimetype": "text/x-python",
   "name": "python",
   "nbconvert_exporter": "python",
   "pygments_lexer": "ipython3",
   "version": "3.11.9"
  }
 },
 "nbformat": 4,
 "nbformat_minor": 5
}
