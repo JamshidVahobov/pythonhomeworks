{
 "cells": [
  {
   "cell_type": "code",
   "execution_count": 7,
   "metadata": {},
   "outputs": [
    {
     "name": "stdout",
     "output_type": "stream",
     "text": [
      "Ham's age is 23\n"
     ]
    }
   ],
   "source": [
    "## 1. Age Calculator\n",
    "#Write a Python program to ask for a user's name and year of birth, then calculate and display their age.'\n",
    "from datetime import datetime\n",
    "name = input(\"Please enter your name:\")\n",
    "year_b = int(input(\"Enter your year of birth:\"))\n",
    "print(f\"{name.title()}'s age is {datetime.now().year-year_b}\")\n"
   ]
  },
  {
   "cell_type": "code",
   "execution_count": 18,
   "metadata": {},
   "outputs": [
    {
     "name": "stdout",
     "output_type": "stream",
     "text": [
      "Lasetti Malibu\n"
     ]
    }
   ],
   "source": [
    "## 2. Extract Car Names\n",
    "#Extract car names from the following text:python\n",
    "txt = 'LMaasleitbtui'\n",
    "print(txt[::2],txt[1::2])"
   ]
  },
  {
   "cell_type": "code",
   "execution_count": 20,
   "metadata": {},
   "outputs": [
    {
     "name": "stdout",
     "output_type": "stream",
     "text": [
      "Matiz Damas\n"
     ]
    }
   ],
   "source": [
    "## 3. Extract Car Names\n",
    "#Extract car names from the following text:python\n",
    "txt = 'MsaatmiazD'\n",
    "print(txt[::2],txt[::-2])\n",
    "\n"
   ]
  },
  {
   "cell_type": "code",
   "execution_count": 2,
   "metadata": {},
   "outputs": [
    {
     "data": {
      "text/plain": [
       "'London'"
      ]
     },
     "execution_count": 2,
     "metadata": {},
     "output_type": "execute_result"
    }
   ],
   "source": [
    "## 4. Extract Residence Area\n",
    "#Extract the residence area from the following text:python\n",
    "txt = \"I'am John. I am from London\"\n",
    "\n",
    "txt[:-txt[::-1].index(\" \")-1:-1][::-1]"
   ]
  },
  {
   "cell_type": "code",
   "execution_count": 3,
   "metadata": {},
   "outputs": [
    {
     "name": "stdout",
     "output_type": "stream",
     "text": [
      "vcbjhdsvbcfhsa\n"
     ]
    }
   ],
   "source": [
    "## 5. Reverse String\n",
    "#Write a Python program that takes a user input string and prints it in reverse order.\n",
    "string = input(\"Please enter your string:\")\n",
    "print(string[::-1])"
   ]
  },
  {
   "cell_type": "code",
   "execution_count": 35,
   "metadata": {},
   "outputs": [
    {
     "name": "stdout",
     "output_type": "stream",
     "text": [
      "5\n"
     ]
    }
   ],
   "source": [
    "## 6. Count Vowels\n",
    "#Write a Python program that counts the number of vowels in a given string.\n",
    "vowels = \"aeiouyAEIOUY\"\n",
    "string = input(\"Please enter your string:\")\n",
    "count = sum(1 for char in string if char in vowels)\n",
    "print(count)"
   ]
  },
  {
   "cell_type": "code",
   "execution_count": 4,
   "metadata": {},
   "outputs": [
    {
     "name": "stdout",
     "output_type": "stream",
     "text": [
      "9\n"
     ]
    }
   ],
   "source": [
    "## 7. Find Maximum Value\n",
    "#Write a Python program that takes a list of numbers as input and prints the maximum value.\n",
    "numbers = input(\"please enter numbers, like in the example(2 4 6 10):\").split()\n",
    "print(max(numbers))"
   ]
  },
  {
   "cell_type": "code",
   "execution_count": 6,
   "metadata": {},
   "outputs": [
    {
     "data": {
      "text/plain": [
       "False"
      ]
     },
     "execution_count": 6,
     "metadata": {},
     "output_type": "execute_result"
    }
   ],
   "source": [
    "## 8. Check Palindrome\n",
    "#Write a Python program that checks if a given word is a palindrome (reads the same forward and backward).\n",
    "word = input(\"Please enter a word, I will return if it is palindrome or not:\")\n",
    "word == word[::-1]"
   ]
  },
  {
   "cell_type": "code",
   "execution_count": 15,
   "metadata": {},
   "outputs": [
    {
     "name": "stdout",
     "output_type": "stream",
     "text": [
      "@gmail.com\n"
     ]
    }
   ],
   "source": [
    "## 9. Extract Email Domain\n",
    "#Write a Python program that extracts and prints the domain from an email address provided by the user.\n",
    "email = input(\"Please enter your email, I will return the domain from it:\")\n",
    "domain = email[email.index(\"@\")::]\n",
    "print(domain)"
   ]
  },
  {
   "cell_type": "code",
   "execution_count": 16,
   "metadata": {},
   "outputs": [
    {
     "name": "stdout",
     "output_type": "stream",
     "text": [
      "O&*jM*#8L0%)C76\n"
     ]
    }
   ],
   "source": [
    "## 10. Generate Random Password\n",
    "#Write a Python program to generate a random password containing letters, digits, and special characters.\n",
    "\n",
    "letters = ['a', 'b', 'c', 'd', 'e', 'f', 'g', 'h', 'i', 'j', 'k', 'l', 'm', 'n', 'o', 'p', 'q', 'r', 's', 't', 'u', 'v', 'w', 'x', 'y', 'z', 'A', 'B', 'C', 'D', 'E', 'F', 'G', 'H', 'I', 'J', 'K', 'L', 'M', 'N', 'O', 'P', 'Q', 'R', 'S', 'T', 'U', 'V', 'W', 'X', 'Y', 'Z']\n",
    "numbers = ['0', '1', '2', '3', '4', '5', '6', '7', '8', '9']\n",
    "symbols = ['!', '#', '$', '%', '&', '(', ')', '*', '+']\n",
    "\n",
    "import random\n",
    "l = int(input('How many letters do you want to see in your password?'))\n",
    "n = int(input('How many numbers do you want to see in your password?'))\n",
    "s = int(input('How many symbols do you want to see in your password?'))\n",
    "\n",
    "lts = random.choices(letters, k=l)\n",
    "ns = random.choices(numbers, k=n)\n",
    "ss = random.choices(symbols, k=s)\n",
    "\n",
    "allchars = lts+ns+ss\n",
    "random.shuffle(allchars)\n",
    "print(\"\".join(allchars))"
   ]
  }
 ],
 "metadata": {
  "kernelspec": {
   "display_name": "Python 3",
   "language": "python",
   "name": "python3"
  },
  "language_info": {
   "codemirror_mode": {
    "name": "ipython",
    "version": 3
   },
   "file_extension": ".py",
   "mimetype": "text/x-python",
   "name": "python",
   "nbconvert_exporter": "python",
   "pygments_lexer": "ipython3",
   "version": "3.11.9"
  }
 },
 "nbformat": 4,
 "nbformat_minor": 2
}
